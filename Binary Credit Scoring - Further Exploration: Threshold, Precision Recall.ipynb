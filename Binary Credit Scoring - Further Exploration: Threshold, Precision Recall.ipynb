{
 "cells": [
  {
   "cell_type": "markdown",
   "id": "02e72ee5",
   "metadata": {},
   "source": [
    "<font size=\"6\"><strong>Data Scientist Test<strong></font>"
   ]
  },
  {
   "cell_type": "markdown",
   "id": "75753a21",
   "metadata": {},
   "source": [
    "This notebook serves as technical test for Data Scientist Intern position at FinAccel. The deadline was in 5 days from the day when the dataset and detailed task were received."
   ]
  },
  {
   "cell_type": "code",
   "execution_count": 266,
   "id": "52486ea3",
   "metadata": {
    "ExecuteTime": {
     "end_time": "2022-09-05T10:01:33.227249Z",
     "start_time": "2022-09-05T10:01:33.223357Z"
    }
   },
   "outputs": [],
   "source": [
    "import pandas as pd\n",
    "import numpy as np\n",
    "import matplotlib.pyplot as plt\n",
    "import seaborn as sns"
   ]
  },
  {
   "cell_type": "markdown",
   "id": "e53652bb",
   "metadata": {},
   "source": [
    "# Background"
   ]
  },
  {
   "cell_type": "markdown",
   "id": "9b19696d",
   "metadata": {},
   "source": [
    "<div style=\"text-align: justify\">\n",
    "<em>Don’t judge a book by its cover.</em> It is a common phrase that used when we made a swift wrong judgment on people just by their visible appearance. However, as wise as it sounds, it is rarely used in daily lives because it is a human nature to judge someone by their looks. It is a basic instinct that helps us survive to these days. Can you imagine, seeing an unfamiliar animal with huge fangs and claws, then you thought that it is a docile, herbivore creature? That would be idiotic. The same with people, some features usually represent the majority of the population. The features are so commonly found in that group of people, it became the distinguishing characteristics for them. For example, seeing a man with huge beard, jeans jacket, black sunglasses, riding a <em>Harley</em>, then we can easily say that he is part of a biker gang. When we found it the opposite, it is most likely to be an outlier case.\n",
    "</div>"
   ]
  },
  {
   "cell_type": "markdown",
   "id": "bc5d991d",
   "metadata": {},
   "source": [
    "<div style=\"text-align: justify\">\n",
    "There is limit for human when judging something based on its features. With such distinguishing features such as mentioned above, it is easy for us to make a swift correct judgment. But how about features that didn’t have clear visible distinction, like numerical features? Or when it is complex that involves a lot of features? Even if we can make a logically sound decision based on the features, it will take a long time, and it is not very efficient. That’s where machine learning come for the rescue. The advancement of computational technology had solved that problem. Nowadays, we can make a swift, objective decision based on the features, depends on the problem we faced. \n",
    "</div>"
   ]
  },
  {
   "cell_type": "markdown",
   "id": "0e92d207",
   "metadata": {},
   "source": [
    "<div style=\"text-align: justify\">\n",
    "For this project, figuratively, I will aid the company to make decisions on whether we will give loans to the debtor based on their demographic information using supervised machine learning model. With no prior information on the features, I hypothesized that there are certain features from the dataset given that will distinguish person that will successfully return their loans and person who will not. With such hypothesis, a predictive model is enough to prove it. With good methodology and evaluation, having a good model will indicates there is distinguishing feature(s) used in the model.\n",
    "</div>"
   ]
  },
  {
   "cell_type": "markdown",
   "id": "8dcff945",
   "metadata": {},
   "source": [
    "<div style=\"text-align: justify\">\n",
    "<strong>Note</strong>: Hypothesis and assumptions play a huge role in the process of model building. In this case, if we are interested in which features and how it will distinguish people, then we can’t use non-interpretable models such as boosting, bagging, or deep learning. Another example, with that hypothesis in mind, we will remove multicollinearity in feature selection/engineering process. That’s because we want to know the coefficient of each variables and having a multicollinearity in the model will make the coefficient to be biased. Because the task is about predictive model, then I believe explaining the relationship between variables using model won't be necessary.\n",
    "</div>"
   ]
  },
  {
   "cell_type": "markdown",
   "id": "d1f03f1c",
   "metadata": {},
   "source": [
    "# Dataset Information"
   ]
  },
  {
   "cell_type": "markdown",
   "id": "f9517994",
   "metadata": {},
   "source": [
    "<div style=\"text-align: justify\">\n",
    "This demographic dataset was received through email from HR as technical test for the applied position. Demographic data is a user level data containing all demographic-related data, Facebook data, and several phone-specific data (aggregated to user level). All variables with prefix <em>'de'</em> comes from user's self reported data, prefix <em>'fb'</em> from user's Facebook profile, and <em>'ph'</em> from user's phone data.\n",
    "</div>"
   ]
  },
  {
   "cell_type": "code",
   "execution_count": 363,
   "id": "8cb6099f",
   "metadata": {
    "ExecuteTime": {
     "end_time": "2022-09-05T10:09:04.319709Z",
     "start_time": "2022-09-05T10:09:03.807520Z"
    },
    "scrolled": false
   },
   "outputs": [
    {
     "name": "stdout",
     "output_type": "stream",
     "text": [
      "<class 'pandas.core.frame.DataFrame'>\n",
      "RangeIndex: 41022 entries, 0 to 41021\n",
      "Data columns (total 22 columns):\n",
      " #   Column                  Non-Null Count  Dtype \n",
      "---  ------                  --------------  ----- \n",
      " 0   index                   41022 non-null  int64 \n",
      " 1   flag_bad                41022 non-null  int64 \n",
      " 2   de_age                  41022 non-null  int64 \n",
      " 3   de_gender               41022 non-null  int64 \n",
      " 4   de_date_joined          41022 non-null  object\n",
      " 5   de_num_friends          41022 non-null  int64 \n",
      " 6   de_monthly_salary       41022 non-null  int64 \n",
      " 7   de_employment_type      41022 non-null  int64 \n",
      " 8   de_employment_duration  41022 non-null  int64 \n",
      " 9   de_accomodation_type    41022 non-null  int64 \n",
      " 10  de_education            41022 non-null  int64 \n",
      " 11  de_marital_status       41022 non-null  int64 \n",
      " 12  de_children             41022 non-null  int64 \n",
      " 13  ph_total_contacts       41022 non-null  int64 \n",
      " 14  ph_other_device_info    41022 non-null  object\n",
      " 15  ph_call_log_stats       38935 non-null  object\n",
      " 16  ph_country_code         40997 non-null  object\n",
      " 17  ph_app_list             41022 non-null  object\n",
      " 18  fb_gender               39509 non-null  object\n",
      " 19  fb_dob                  31369 non-null  object\n",
      " 20  fb_last_updated_date    39552 non-null  object\n",
      " 21  fb_relation             14561 non-null  object\n",
      "dtypes: int64(13), object(9)\n",
      "memory usage: 6.9+ MB\n"
     ]
    }
   ],
   "source": [
    "# Load the dataset\n",
    "df = pd.read_csv(\"D:/Docs for Job Application/Tes/Finaccel Internship/FinAccel - Data Scientist Test/FinAccel - Data Scientist Test/demographic.csv\", low_memory=False)\n",
    "# Brief information of the dataset\n",
    "df.info()"
   ]
  },
  {
   "cell_type": "markdown",
   "id": "a5abf51b",
   "metadata": {},
   "source": [
    "<div style=\"text-align: justify\">\n",
    "Based on the information above, the initial dataset consists of 41022 rows and 22 columns. It also seems that there are missing values in several features.\n",
    "</div>"
   ]
  },
  {
   "cell_type": "markdown",
   "id": "2f3ed6f1",
   "metadata": {},
   "source": [
    "## Descriptions of Features"
   ]
  },
  {
   "cell_type": "markdown",
   "id": "8073486d",
   "metadata": {},
   "source": [
    "There are some features which had been encoded into numerical values. The details are:\n",
    "1. flag_bad: 1=bad user, 0=good user.\n",
    "2. de_gender: 1=male, 2=female.\n",
    "3. de_employment_type: 1=full time, 2=part-time, 3=business owner.\n",
    "4. de_education: 1=elementary school, 2=senior high school, 3=diploma, 4=undergraduate, 5=postgraduate.\n",
    "5. de_marital_status: 1=single, 2=married, 3=divorced, 4=widow/widower."
   ]
  },
  {
   "cell_type": "markdown",
   "id": "f36db1f1",
   "metadata": {},
   "source": [
    "Other features explanation are:\n",
    "1. index: unique identifier for each applicant.\n",
    "2. de_date_joined: time-stamp when user apply.\n",
    "3. fb_last_update_date: time-stamp when user updated his/her FB profile."
   ]
  },
  {
   "cell_type": "markdown",
   "id": "cf2427f8",
   "metadata": {},
   "source": [
    "The rest of the variables are self explanatory."
   ]
  },
  {
   "cell_type": "markdown",
   "id": "642ce335",
   "metadata": {},
   "source": [
    "# Data Cleaning"
   ]
  },
  {
   "cell_type": "markdown",
   "id": "cfdbd79e",
   "metadata": {},
   "source": [
    "<div style=\"text-align: justify\">\n",
    "In this step, initial exploration of the dataset was performed. It ultimately aims to identify and treat wrong data type, anomalies, and missing values from the dataset. In this step, feature selection and engineering based on logic will also be done to reduce the number of features that will be explored later.\n",
    "</div>"
   ]
  },
  {
   "cell_type": "markdown",
   "id": "cff02562",
   "metadata": {},
   "source": [
    "## index"
   ]
  },
  {
   "cell_type": "markdown",
   "id": "20dd2023",
   "metadata": {},
   "source": [
    "Since it is an unique identifier for each data, our main concern with this feature is whether it has duplicate values or not. Let's check."
   ]
  },
  {
   "cell_type": "code",
   "execution_count": 364,
   "id": "a17646ed",
   "metadata": {
    "ExecuteTime": {
     "end_time": "2022-09-05T10:09:06.457176Z",
     "start_time": "2022-09-05T10:09:06.452310Z"
    }
   },
   "outputs": [
    {
     "data": {
      "text/plain": [
       "41022"
      ]
     },
     "execution_count": 364,
     "metadata": {},
     "output_type": "execute_result"
    }
   ],
   "source": [
    "# Checking for number of unique values of index column\n",
    "df['index'].nunique() # OK"
   ]
  },
  {
   "cell_type": "markdown",
   "id": "a29da73a",
   "metadata": {},
   "source": [
    "Since the amount of unique values is the same with the number of rows, this feature has no problem."
   ]
  },
  {
   "cell_type": "markdown",
   "id": "c6ef7a59",
   "metadata": {
    "ExecuteTime": {
     "end_time": "2022-08-13T12:16:16.243425Z",
     "start_time": "2022-08-13T12:16:16.240511Z"
    }
   },
   "source": [
    "## flag_bad"
   ]
  },
  {
   "cell_type": "markdown",
   "id": "b851fb87",
   "metadata": {},
   "source": [
    "Let's check whether this column has the same unique values as described."
   ]
  },
  {
   "cell_type": "code",
   "execution_count": 365,
   "id": "81d5172f",
   "metadata": {
    "ExecuteTime": {
     "end_time": "2022-09-05T10:09:07.443327Z",
     "start_time": "2022-09-05T10:09:07.438460Z"
    }
   },
   "outputs": [
    {
     "data": {
      "text/plain": [
       "array([0, 1], dtype=int64)"
      ]
     },
     "execution_count": 365,
     "metadata": {},
     "output_type": "execute_result"
    }
   ],
   "source": [
    "# Checking for unique values of flag_bad column\n",
    "df['flag_bad'].unique() # OK"
   ]
  },
  {
   "cell_type": "markdown",
   "id": "d31aeecf",
   "metadata": {},
   "source": [
    "## de_age"
   ]
  },
  {
   "cell_type": "markdown",
   "id": "e5db51e3",
   "metadata": {},
   "source": [
    "It is well known that to become a debtor, someone needs to be in a certain range of age based on the term and conditions from the creditor. Thus, our concern with this feature is to identify whether it has data with age outside the range of age mentioned above. For Kredivo, the range is from 18 to 60 years old."
   ]
  },
  {
   "cell_type": "code",
   "execution_count": 366,
   "id": "c6c1405d",
   "metadata": {
    "ExecuteTime": {
     "end_time": "2022-09-05T10:09:08.111773Z",
     "start_time": "2022-09-05T10:09:08.104959Z"
    }
   },
   "outputs": [
    {
     "data": {
      "text/plain": [
       "count    41022.000000\n",
       "mean        28.170908\n",
       "std          6.537795\n",
       "min         18.000000\n",
       "25%         23.000000\n",
       "50%         27.000000\n",
       "75%         32.000000\n",
       "max         73.000000\n",
       "Name: de_age, dtype: float64"
      ]
     },
     "execution_count": 366,
     "metadata": {},
     "output_type": "execute_result"
    }
   ],
   "source": [
    "# Checking the characteristics of de_age data\n",
    "df['de_age'].describe()"
   ]
  },
  {
   "cell_type": "markdown",
   "id": "5fa063cd",
   "metadata": {},
   "source": [
    "Minimum age of the dataset is the same with the regulation. Let's check for the age>60."
   ]
  },
  {
   "cell_type": "code",
   "execution_count": 367,
   "id": "5e741609",
   "metadata": {
    "ExecuteTime": {
     "end_time": "2022-09-05T10:09:08.798241Z",
     "start_time": "2022-09-05T10:09:08.790454Z"
    }
   },
   "outputs": [
    {
     "data": {
      "text/html": [
       "<div>\n",
       "<style scoped>\n",
       "    .dataframe tbody tr th:only-of-type {\n",
       "        vertical-align: middle;\n",
       "    }\n",
       "\n",
       "    .dataframe tbody tr th {\n",
       "        vertical-align: top;\n",
       "    }\n",
       "\n",
       "    .dataframe thead th {\n",
       "        text-align: right;\n",
       "    }\n",
       "</style>\n",
       "<table border=\"1\" class=\"dataframe\">\n",
       "  <thead>\n",
       "    <tr style=\"text-align: right;\">\n",
       "      <th></th>\n",
       "      <th>flag_bad</th>\n",
       "      <th>de_age</th>\n",
       "      <th>de_gender</th>\n",
       "      <th>de_date_joined</th>\n",
       "    </tr>\n",
       "  </thead>\n",
       "  <tbody>\n",
       "    <tr>\n",
       "      <th>11228</th>\n",
       "      <td>1</td>\n",
       "      <td>69</td>\n",
       "      <td>1</td>\n",
       "      <td>24/02/2018 15:51</td>\n",
       "    </tr>\n",
       "    <tr>\n",
       "      <th>22154</th>\n",
       "      <td>0</td>\n",
       "      <td>61</td>\n",
       "      <td>1</td>\n",
       "      <td>08/07/2018 10:41</td>\n",
       "    </tr>\n",
       "    <tr>\n",
       "      <th>23796</th>\n",
       "      <td>0</td>\n",
       "      <td>64</td>\n",
       "      <td>2</td>\n",
       "      <td>23/04/2018 22:09</td>\n",
       "    </tr>\n",
       "    <tr>\n",
       "      <th>27387</th>\n",
       "      <td>0</td>\n",
       "      <td>73</td>\n",
       "      <td>1</td>\n",
       "      <td>07/05/2018 16:44</td>\n",
       "    </tr>\n",
       "    <tr>\n",
       "      <th>28423</th>\n",
       "      <td>0</td>\n",
       "      <td>63</td>\n",
       "      <td>1</td>\n",
       "      <td>18/05/2018 14:15</td>\n",
       "    </tr>\n",
       "    <tr>\n",
       "      <th>34551</th>\n",
       "      <td>1</td>\n",
       "      <td>61</td>\n",
       "      <td>1</td>\n",
       "      <td>03/06/2018 19:27</td>\n",
       "    </tr>\n",
       "    <tr>\n",
       "      <th>36118</th>\n",
       "      <td>0</td>\n",
       "      <td>66</td>\n",
       "      <td>2</td>\n",
       "      <td>12/06/2018 08:13</td>\n",
       "    </tr>\n",
       "    <tr>\n",
       "      <th>39239</th>\n",
       "      <td>0</td>\n",
       "      <td>62</td>\n",
       "      <td>1</td>\n",
       "      <td>07/07/2018 07:13</td>\n",
       "    </tr>\n",
       "  </tbody>\n",
       "</table>\n",
       "</div>"
      ],
      "text/plain": [
       "       flag_bad  de_age  de_gender    de_date_joined\n",
       "11228         1      69          1  24/02/2018 15:51\n",
       "22154         0      61          1  08/07/2018 10:41\n",
       "23796         0      64          2  23/04/2018 22:09\n",
       "27387         0      73          1  07/05/2018 16:44\n",
       "28423         0      63          1  18/05/2018 14:15\n",
       "34551         1      61          1  03/06/2018 19:27\n",
       "36118         0      66          2  12/06/2018 08:13\n",
       "39239         0      62          1  07/07/2018 07:13"
      ]
     },
     "execution_count": 367,
     "metadata": {},
     "output_type": "execute_result"
    }
   ],
   "source": [
    "# Checking for data (with certain features) with de_age more than 60\n",
    "df[df['de_age']>60][['flag_bad','de_age','de_gender','de_date_joined']]"
   ]
  },
  {
   "cell_type": "markdown",
   "id": "949be001",
   "metadata": {},
   "source": [
    "There are only 8 columns of data with age more than 60 years old. Because their age are logically sound, let's just say that the data are valid, even if their age is more than the range of age in the rules. It's basically just an assumption."
   ]
  },
  {
   "cell_type": "markdown",
   "id": "f1296e53",
   "metadata": {},
   "source": [
    "## de_gender"
   ]
  },
  {
   "cell_type": "markdown",
   "id": "ed9a89b6",
   "metadata": {},
   "source": [
    "Let's check whether this column has the same unique values as described."
   ]
  },
  {
   "cell_type": "code",
   "execution_count": 368,
   "id": "a3274f74",
   "metadata": {
    "ExecuteTime": {
     "end_time": "2022-09-05T10:09:12.634104Z",
     "start_time": "2022-09-05T10:09:12.629242Z"
    }
   },
   "outputs": [
    {
     "data": {
      "text/plain": [
       "array([1, 2], dtype=int64)"
      ]
     },
     "execution_count": 368,
     "metadata": {},
     "output_type": "execute_result"
    }
   ],
   "source": [
    "# Checking for unique values of de_gender column\n",
    "df['de_gender'].unique() # OK"
   ]
  },
  {
   "cell_type": "markdown",
   "id": "bb3fcb3b",
   "metadata": {},
   "source": [
    "## de_date_joined"
   ]
  },
  {
   "cell_type": "code",
   "execution_count": 369,
   "id": "36ccd788",
   "metadata": {
    "ExecuteTime": {
     "end_time": "2022-09-05T10:09:13.780885Z",
     "start_time": "2022-09-05T10:09:13.776992Z"
    }
   },
   "outputs": [
    {
     "data": {
      "text/plain": [
       "dtype('O')"
      ]
     },
     "execution_count": 369,
     "metadata": {},
     "output_type": "execute_result"
    }
   ],
   "source": [
    "# Checking for column type of de_date_joined\n",
    "df['de_date_joined'].dtype # 'O' for object"
   ]
  },
  {
   "cell_type": "markdown",
   "id": "22609c7f",
   "metadata": {},
   "source": [
    "We need to fix the column type to date and time. First, let's take a look at the initial format of the date and time."
   ]
  },
  {
   "cell_type": "code",
   "execution_count": 370,
   "id": "053fd0de",
   "metadata": {
    "ExecuteTime": {
     "end_time": "2022-09-05T10:09:14.216939Z",
     "start_time": "2022-09-05T10:09:14.212072Z"
    }
   },
   "outputs": [
    {
     "data": {
      "text/plain": [
       "0    08/04/2018 14:50\n",
       "1    02/01/2018 17:17\n",
       "2    01/01/2018 16:39\n",
       "3    04/01/2018 22:36\n",
       "4    02/01/2018 18:12\n",
       "5    01/01/2018 12:51\n",
       "6    06/01/2018 01:05\n",
       "7    19/01/2018 23:21\n",
       "8    01/01/2018 12:49\n",
       "9    01/01/2018 21:31\n",
       "Name: de_date_joined, dtype: object"
      ]
     },
     "execution_count": 370,
     "metadata": {},
     "output_type": "execute_result"
    }
   ],
   "source": [
    "# Checking for inputted data of de_date_joined\n",
    "df['de_date_joined'][0:10] # DD/MM/YYYY HH:MM"
   ]
  },
  {
   "cell_type": "code",
   "execution_count": 371,
   "id": "5352adfc",
   "metadata": {
    "ExecuteTime": {
     "end_time": "2022-09-05T10:09:16.647688Z",
     "start_time": "2022-09-05T10:09:14.407717Z"
    },
    "scrolled": true
   },
   "outputs": [
    {
     "data": {
      "text/plain": [
       "0   2018-08-04 14:50:00\n",
       "1   2018-02-01 17:17:00\n",
       "2   2018-01-01 16:39:00\n",
       "3   2018-04-01 22:36:00\n",
       "4   2018-02-01 18:12:00\n",
       "5   2018-01-01 12:51:00\n",
       "6   2018-06-01 01:05:00\n",
       "7   2018-01-19 23:21:00\n",
       "8   2018-01-01 12:49:00\n",
       "9   2018-01-01 21:31:00\n",
       "Name: de_date_joined, dtype: datetime64[ns]"
      ]
     },
     "execution_count": 371,
     "metadata": {},
     "output_type": "execute_result"
    }
   ],
   "source": [
    "# Changing data type into datetime\n",
    "df['de_date_joined']=pd.to_datetime(df['de_date_joined'])\n",
    "df['de_date_joined'][0:10] # OK"
   ]
  },
  {
   "cell_type": "markdown",
   "id": "6c40ba8c",
   "metadata": {},
   "source": [
    "## de_num_friends"
   ]
  },
  {
   "cell_type": "code",
   "execution_count": 372,
   "id": "1d8c8f2c",
   "metadata": {
    "ExecuteTime": {
     "end_time": "2022-09-05T10:09:16.734314Z",
     "start_time": "2022-09-05T10:09:16.728478Z"
    }
   },
   "outputs": [
    {
     "data": {
      "text/plain": [
       "count    41022.000000\n",
       "mean      1270.023987\n",
       "std       1188.849670\n",
       "min         -1.000000\n",
       "25%        437.000000\n",
       "50%        867.000000\n",
       "75%       1663.000000\n",
       "max       5000.000000\n",
       "Name: de_num_friends, dtype: float64"
      ]
     },
     "execution_count": 372,
     "metadata": {},
     "output_type": "execute_result"
    }
   ],
   "source": [
    "# Checking for characteristics of de_num_friends column\n",
    "df['de_num_friends'].describe()"
   ]
  },
  {
   "cell_type": "markdown",
   "id": "94151fc6",
   "metadata": {},
   "source": [
    "As you can see, there is a -1 value which is an anomaly. Let's check."
   ]
  },
  {
   "cell_type": "code",
   "execution_count": 373,
   "id": "16328b4e",
   "metadata": {
    "ExecuteTime": {
     "end_time": "2022-09-05T10:09:16.825809Z",
     "start_time": "2022-09-05T10:09:16.815101Z"
    }
   },
   "outputs": [
    {
     "data": {
      "text/html": [
       "<div>\n",
       "<style scoped>\n",
       "    .dataframe tbody tr th:only-of-type {\n",
       "        vertical-align: middle;\n",
       "    }\n",
       "\n",
       "    .dataframe tbody tr th {\n",
       "        vertical-align: top;\n",
       "    }\n",
       "\n",
       "    .dataframe thead th {\n",
       "        text-align: right;\n",
       "    }\n",
       "</style>\n",
       "<table border=\"1\" class=\"dataframe\">\n",
       "  <thead>\n",
       "    <tr style=\"text-align: right;\">\n",
       "      <th></th>\n",
       "      <th>index</th>\n",
       "      <th>flag_bad</th>\n",
       "      <th>de_age</th>\n",
       "      <th>de_gender</th>\n",
       "      <th>de_date_joined</th>\n",
       "      <th>de_num_friends</th>\n",
       "      <th>de_monthly_salary</th>\n",
       "      <th>de_employment_type</th>\n",
       "      <th>de_employment_duration</th>\n",
       "      <th>de_accomodation_type</th>\n",
       "      <th>...</th>\n",
       "      <th>de_children</th>\n",
       "      <th>ph_total_contacts</th>\n",
       "      <th>ph_other_device_info</th>\n",
       "      <th>ph_call_log_stats</th>\n",
       "      <th>ph_country_code</th>\n",
       "      <th>ph_app_list</th>\n",
       "      <th>fb_gender</th>\n",
       "      <th>fb_dob</th>\n",
       "      <th>fb_last_updated_date</th>\n",
       "      <th>fb_relation</th>\n",
       "    </tr>\n",
       "  </thead>\n",
       "  <tbody>\n",
       "    <tr>\n",
       "      <th>19839</th>\n",
       "      <td>19839</td>\n",
       "      <td>0</td>\n",
       "      <td>22</td>\n",
       "      <td>2</td>\n",
       "      <td>2018-06-04 13:49:00</td>\n",
       "      <td>-1</td>\n",
       "      <td>4000000</td>\n",
       "      <td>1</td>\n",
       "      <td>34</td>\n",
       "      <td>4</td>\n",
       "      <td>...</td>\n",
       "      <td>0</td>\n",
       "      <td>121</td>\n",
       "      <td>{\"device_codename\": \"A37f\", \"brand\": \"OPPO\"}</td>\n",
       "      <td>{\"percent_incoming_nighttime\": 24.43, \"percent...</td>\n",
       "      <td>id</td>\n",
       "      <td>['com.whatsapp', 'com.lazada.android', 'com.cv...</td>\n",
       "      <td>NaN</td>\n",
       "      <td>04/16/1991</td>\n",
       "      <td>2018-06-09T07:15:35+0000</td>\n",
       "      <td>NaN</td>\n",
       "    </tr>\n",
       "    <tr>\n",
       "      <th>21593</th>\n",
       "      <td>21593</td>\n",
       "      <td>0</td>\n",
       "      <td>28</td>\n",
       "      <td>1</td>\n",
       "      <td>2018-04-22 14:55:00</td>\n",
       "      <td>-1</td>\n",
       "      <td>4000000</td>\n",
       "      <td>2</td>\n",
       "      <td>51</td>\n",
       "      <td>4</td>\n",
       "      <td>...</td>\n",
       "      <td>1</td>\n",
       "      <td>240</td>\n",
       "      <td>{\"device_codename\": \"kenzo\", \"brand\": \"Xiaomi\"}</td>\n",
       "      <td>{\"percent_incoming_nighttime\": 3.77, \"percent_...</td>\n",
       "      <td>id</td>\n",
       "      <td>['com.luutinhit.sensorsforconver', 'com.bukala...</td>\n",
       "      <td>NaN</td>\n",
       "      <td>08/12/1989</td>\n",
       "      <td>2018-09-22T06:36:51+0000</td>\n",
       "      <td>NaN</td>\n",
       "    </tr>\n",
       "    <tr>\n",
       "      <th>38700</th>\n",
       "      <td>38700</td>\n",
       "      <td>0</td>\n",
       "      <td>26</td>\n",
       "      <td>2</td>\n",
       "      <td>2018-06-29 09:38:00</td>\n",
       "      <td>-1</td>\n",
       "      <td>6000000</td>\n",
       "      <td>2</td>\n",
       "      <td>15</td>\n",
       "      <td>4</td>\n",
       "      <td>...</td>\n",
       "      <td>1</td>\n",
       "      <td>0</td>\n",
       "      <td>{\"device_codename\": \"prada\", \"brand\": \"Xiaomi\"}</td>\n",
       "      <td>{\"percent_incoming_nighttime\": 5.21, \"percent_...</td>\n",
       "      <td>id</td>\n",
       "      <td>['com.duokan.phone.remotecontroller', 'com.len...</td>\n",
       "      <td>NaN</td>\n",
       "      <td>11/18/1991</td>\n",
       "      <td>2018-01-05T05:56:19+0000</td>\n",
       "      <td>NaN</td>\n",
       "    </tr>\n",
       "    <tr>\n",
       "      <th>40791</th>\n",
       "      <td>40791</td>\n",
       "      <td>0</td>\n",
       "      <td>31</td>\n",
       "      <td>1</td>\n",
       "      <td>2018-10-07 13:47:00</td>\n",
       "      <td>-1</td>\n",
       "      <td>3000000</td>\n",
       "      <td>1</td>\n",
       "      <td>31</td>\n",
       "      <td>4</td>\n",
       "      <td>...</td>\n",
       "      <td>0</td>\n",
       "      <td>0</td>\n",
       "      <td>{\"device_codename\": \"riva\", \"brand\": \"Xiaomi\"}</td>\n",
       "      <td>{\"percent_incoming_nighttime\": 10.0, \"percent_...</td>\n",
       "      <td>id</td>\n",
       "      <td>['com.miui.enbbs', 'com.whatsapp', 'com.grabta...</td>\n",
       "      <td>NaN</td>\n",
       "      <td>09/24/1986</td>\n",
       "      <td>2018-08-25T09:45:16+0000</td>\n",
       "      <td>NaN</td>\n",
       "    </tr>\n",
       "  </tbody>\n",
       "</table>\n",
       "<p>4 rows × 22 columns</p>\n",
       "</div>"
      ],
      "text/plain": [
       "       index  flag_bad  de_age  de_gender      de_date_joined  de_num_friends  \\\n",
       "19839  19839         0      22          2 2018-06-04 13:49:00              -1   \n",
       "21593  21593         0      28          1 2018-04-22 14:55:00              -1   \n",
       "38700  38700         0      26          2 2018-06-29 09:38:00              -1   \n",
       "40791  40791         0      31          1 2018-10-07 13:47:00              -1   \n",
       "\n",
       "       de_monthly_salary  de_employment_type  de_employment_duration  \\\n",
       "19839            4000000                   1                      34   \n",
       "21593            4000000                   2                      51   \n",
       "38700            6000000                   2                      15   \n",
       "40791            3000000                   1                      31   \n",
       "\n",
       "       de_accomodation_type  ...  de_children  ph_total_contacts  \\\n",
       "19839                     4  ...            0                121   \n",
       "21593                     4  ...            1                240   \n",
       "38700                     4  ...            1                  0   \n",
       "40791                     4  ...            0                  0   \n",
       "\n",
       "                                  ph_other_device_info  \\\n",
       "19839     {\"device_codename\": \"A37f\", \"brand\": \"OPPO\"}   \n",
       "21593  {\"device_codename\": \"kenzo\", \"brand\": \"Xiaomi\"}   \n",
       "38700  {\"device_codename\": \"prada\", \"brand\": \"Xiaomi\"}   \n",
       "40791   {\"device_codename\": \"riva\", \"brand\": \"Xiaomi\"}   \n",
       "\n",
       "                                       ph_call_log_stats ph_country_code  \\\n",
       "19839  {\"percent_incoming_nighttime\": 24.43, \"percent...              id   \n",
       "21593  {\"percent_incoming_nighttime\": 3.77, \"percent_...              id   \n",
       "38700  {\"percent_incoming_nighttime\": 5.21, \"percent_...              id   \n",
       "40791  {\"percent_incoming_nighttime\": 10.0, \"percent_...              id   \n",
       "\n",
       "                                             ph_app_list fb_gender  \\\n",
       "19839  ['com.whatsapp', 'com.lazada.android', 'com.cv...       NaN   \n",
       "21593  ['com.luutinhit.sensorsforconver', 'com.bukala...       NaN   \n",
       "38700  ['com.duokan.phone.remotecontroller', 'com.len...       NaN   \n",
       "40791  ['com.miui.enbbs', 'com.whatsapp', 'com.grabta...       NaN   \n",
       "\n",
       "           fb_dob      fb_last_updated_date fb_relation  \n",
       "19839  04/16/1991  2018-06-09T07:15:35+0000         NaN  \n",
       "21593  08/12/1989  2018-09-22T06:36:51+0000         NaN  \n",
       "38700  11/18/1991  2018-01-05T05:56:19+0000         NaN  \n",
       "40791  09/24/1986  2018-08-25T09:45:16+0000         NaN  \n",
       "\n",
       "[4 rows x 22 columns]"
      ]
     },
     "execution_count": 373,
     "metadata": {},
     "output_type": "execute_result"
    }
   ],
   "source": [
    "df[df['de_num_friends']<0]"
   ]
  },
  {
   "cell_type": "markdown",
   "id": "088e9974",
   "metadata": {},
   "source": [
    "There are only 4 data with number of friends less than 0. However, before fixing this issue, there are another concerns:\n",
    "1. The inputted number of friends are absurd. How can someone keep track of their total number of friends? With mean of 1270 and median of 867, it is most unlikely for someone to remember all of their names. The most logical explanation is that these data were received from Facebook, not user's self reported data.\n",
    "2. Moreover, what's the relevancy of number of friends and the ability of someone to be responsible, keep their promise to pay their debt in the expected time? I don't think there is."
   ]
  },
  {
   "cell_type": "markdown",
   "id": "1559365d",
   "metadata": {},
   "source": [
    "To find more supporting evidence data for concern #2, let's use statistical procedure to furtherly prove it.  \n",
    "- Null hypothesis (H0): There is no difference in number of friends between bad and good users.  \n",
    "- Alternative hypothesis (H1): There is difference in number of friends between bad and good users."
   ]
  },
  {
   "cell_type": "code",
   "execution_count": 374,
   "id": "079ec1ce",
   "metadata": {
    "ExecuteTime": {
     "end_time": "2022-09-05T10:09:16.904647Z",
     "start_time": "2022-09-05T10:09:16.901728Z"
    }
   },
   "outputs": [],
   "source": [
    "from scipy.stats import kstest"
   ]
  },
  {
   "cell_type": "code",
   "execution_count": 375,
   "id": "9ea05bf8",
   "metadata": {
    "ExecuteTime": {
     "end_time": "2022-09-05T10:09:16.995169Z",
     "start_time": "2022-09-05T10:09:16.986408Z"
    }
   },
   "outputs": [
    {
     "data": {
      "text/plain": [
       "KstestResult(statistic=0.9998781141826337, pvalue=0.0)"
      ]
     },
     "execution_count": 375,
     "metadata": {},
     "output_type": "execute_result"
    }
   ],
   "source": [
    "# Checking the distribution of number of friends data\n",
    "kstest(df['de_num_friends'],'norm')"
   ]
  },
  {
   "cell_type": "markdown",
   "id": "9611ae36",
   "metadata": {},
   "source": [
    "Using two-sided Kolmogorov-Smirnov method, the data was not normally distributed with p-value less than 0.05. We will proceed with non-parametric method. Because we are comparing two groups (bad and good), Mann-Whitney U test will be performed."
   ]
  },
  {
   "cell_type": "code",
   "execution_count": 376,
   "id": "7b33ac78",
   "metadata": {
    "ExecuteTime": {
     "end_time": "2022-09-05T10:09:17.702004Z",
     "start_time": "2022-09-05T10:09:17.699083Z"
    }
   },
   "outputs": [],
   "source": [
    "from scipy.stats import mannwhitneyu"
   ]
  },
  {
   "cell_type": "code",
   "execution_count": 377,
   "id": "60b0c7ee",
   "metadata": {
    "ExecuteTime": {
     "end_time": "2022-09-05T10:09:17.976490Z",
     "start_time": "2022-09-05T10:09:17.948263Z"
    }
   },
   "outputs": [
    {
     "data": {
      "text/plain": [
       "MannwhitneyuResult(statistic=97610454.5, pvalue=0.000976922010809063)"
      ]
     },
     "execution_count": 377,
     "metadata": {},
     "output_type": "execute_result"
    }
   ],
   "source": [
    "# Performing Mann-Whitney U test\n",
    "mannwhitneyu(df[(df[\"flag_bad\"]==0)&(df['de_num_friends']>0)][\"de_num_friends\"],\n",
    "             df[(df[\"flag_bad\"]==1)&(df['de_num_friends']>0)][\"de_num_friends\"])"
   ]
  },
  {
   "cell_type": "code",
   "execution_count": 378,
   "id": "8a8b5542",
   "metadata": {
    "ExecuteTime": {
     "end_time": "2022-09-05T10:09:18.199381Z",
     "start_time": "2022-09-05T10:09:18.177964Z"
    }
   },
   "outputs": [
    {
     "data": {
      "text/html": [
       "<div>\n",
       "<style scoped>\n",
       "    .dataframe tbody tr th:only-of-type {\n",
       "        vertical-align: middle;\n",
       "    }\n",
       "\n",
       "    .dataframe tbody tr th {\n",
       "        vertical-align: top;\n",
       "    }\n",
       "\n",
       "    .dataframe thead th {\n",
       "        text-align: right;\n",
       "    }\n",
       "</style>\n",
       "<table border=\"1\" class=\"dataframe\">\n",
       "  <thead>\n",
       "    <tr style=\"text-align: right;\">\n",
       "      <th></th>\n",
       "      <th>count</th>\n",
       "      <th>mean</th>\n",
       "      <th>std</th>\n",
       "      <th>min</th>\n",
       "      <th>25%</th>\n",
       "      <th>50%</th>\n",
       "      <th>75%</th>\n",
       "      <th>max</th>\n",
       "    </tr>\n",
       "    <tr>\n",
       "      <th>flag_bad</th>\n",
       "      <th></th>\n",
       "      <th></th>\n",
       "      <th></th>\n",
       "      <th></th>\n",
       "      <th></th>\n",
       "      <th></th>\n",
       "      <th></th>\n",
       "      <th></th>\n",
       "    </tr>\n",
       "  </thead>\n",
       "  <tbody>\n",
       "    <tr>\n",
       "      <th>0</th>\n",
       "      <td>35697.0</td>\n",
       "      <td>1270.886825</td>\n",
       "      <td>1182.335360</td>\n",
       "      <td>45.0</td>\n",
       "      <td>444.00</td>\n",
       "      <td>870.0</td>\n",
       "      <td>1659.0</td>\n",
       "      <td>5000.0</td>\n",
       "    </tr>\n",
       "    <tr>\n",
       "      <th>1</th>\n",
       "      <td>5320.0</td>\n",
       "      <td>1265.428759</td>\n",
       "      <td>1231.696602</td>\n",
       "      <td>28.0</td>\n",
       "      <td>379.75</td>\n",
       "      <td>845.5</td>\n",
       "      <td>1675.5</td>\n",
       "      <td>5000.0</td>\n",
       "    </tr>\n",
       "  </tbody>\n",
       "</table>\n",
       "</div>"
      ],
      "text/plain": [
       "            count         mean          std   min     25%    50%     75%  \\\n",
       "flag_bad                                                                   \n",
       "0         35697.0  1270.886825  1182.335360  45.0  444.00  870.0  1659.0   \n",
       "1          5320.0  1265.428759  1231.696602  28.0  379.75  845.5  1675.5   \n",
       "\n",
       "             max  \n",
       "flag_bad          \n",
       "0         5000.0  \n",
       "1         5000.0  "
      ]
     },
     "execution_count": 378,
     "metadata": {},
     "output_type": "execute_result"
    }
   ],
   "source": [
    "# Checking the distribution of number of friends, stratified by flag_bad\n",
    "df[df['de_num_friends']>0].groupby(df['flag_bad'])['de_num_friends'].describe()"
   ]
  },
  {
   "cell_type": "code",
   "execution_count": 379,
   "id": "8446a3d5",
   "metadata": {
    "ExecuteTime": {
     "end_time": "2022-09-05T10:09:18.450498Z",
     "start_time": "2022-09-05T10:09:18.377498Z"
    }
   },
   "outputs": [
    {
     "data": {
      "text/plain": [
       "<AxesSubplot:xlabel='flag_bad', ylabel='de_num_friends'>"
      ]
     },
     "execution_count": 379,
     "metadata": {},
     "output_type": "execute_result"
    },
    {
     "data": {
      "image/png": "[encoded data removed]",
      "text/plain": [
       "<Figure size 432x288 with 1 Axes>"
      ]
     },
     "metadata": {
      "needs_background": "light"
     },
     "output_type": "display_data"
    }
   ],
   "source": [
    "# Creating boxplot for not normally distributed data\n",
    "sns.boxplot(y='de_num_friends',x='flag_bad',data=df)"
   ]
  },
  {
   "cell_type": "markdown",
   "id": "c2e68ac3",
   "metadata": {},
   "source": [
    "Because large sample size used, a small difference in number of friends were resulting in statistically significant difference [[1]](https://stats.stackexchange.com/questions/2516/are-large-data-sets-inappropriate-for-hypothesis-testing). However, even if it was statistically significant, the finding was not meaningful, proven by the table and box-plot above (mean, median, Q1, Q3, min, and max values from both groups were comparable)."
   ]
  },
  {
   "cell_type": "markdown",
   "id": "a9fbdb79",
   "metadata": {},
   "source": [
    "With those facts in mind, de_num_friends column will be **dropped**."
   ]
  },
  {
   "cell_type": "code",
   "execution_count": 380,
   "id": "fee06f59",
   "metadata": {
    "ExecuteTime": {
     "end_time": "2022-09-05T10:09:19.001416Z",
     "start_time": "2022-09-05T10:09:18.991683Z"
    }
   },
   "outputs": [],
   "source": [
    "# Dropping column\n",
    "df.drop(columns='de_num_friends',inplace=True)"
   ]
  },
  {
   "cell_type": "markdown",
   "id": "7dc1f59f",
   "metadata": {},
   "source": [
    "## de_monthly_salary"
   ]
  },
  {
   "cell_type": "code",
   "execution_count": 381,
   "id": "64a54e57",
   "metadata": {
    "ExecuteTime": {
     "end_time": "2022-09-05T10:09:19.363959Z",
     "start_time": "2022-09-05T10:09:19.357141Z"
    }
   },
   "outputs": [
    {
     "data": {
      "text/plain": [
       "count    4.102200e+04\n",
       "mean     5.182707e+06\n",
       "std      3.751306e+06\n",
       "min      0.000000e+00\n",
       "25%      3.000000e+06\n",
       "50%      4.000000e+06\n",
       "75%      5.000000e+06\n",
       "max      4.100000e+07\n",
       "Name: de_monthly_salary, dtype: float64"
      ]
     },
     "execution_count": 381,
     "metadata": {},
     "output_type": "execute_result"
    }
   ],
   "source": [
    "# Checking the distribution of monthly salary data\n",
    "df['de_monthly_salary'].describe()"
   ]
  },
  {
   "cell_type": "markdown",
   "id": "689d952b",
   "metadata": {},
   "source": [
    "Minimum value of monthly salary was 0. Let's check the data."
   ]
  },
  {
   "cell_type": "code",
   "execution_count": 382,
   "id": "8db27628",
   "metadata": {
    "ExecuteTime": {
     "end_time": "2022-09-05T10:09:19.785576Z",
     "start_time": "2022-09-05T10:09:19.773892Z"
    }
   },
   "outputs": [
    {
     "data": {
      "text/html": [
       "<div>\n",
       "<style scoped>\n",
       "    .dataframe tbody tr th:only-of-type {\n",
       "        vertical-align: middle;\n",
       "    }\n",
       "\n",
       "    .dataframe tbody tr th {\n",
       "        vertical-align: top;\n",
       "    }\n",
       "\n",
       "    .dataframe thead th {\n",
       "        text-align: right;\n",
       "    }\n",
       "</style>\n",
       "<table border=\"1\" class=\"dataframe\">\n",
       "  <thead>\n",
       "    <tr style=\"text-align: right;\">\n",
       "      <th></th>\n",
       "      <th>index</th>\n",
       "      <th>flag_bad</th>\n",
       "      <th>de_age</th>\n",
       "      <th>de_gender</th>\n",
       "      <th>de_date_joined</th>\n",
       "      <th>de_monthly_salary</th>\n",
       "      <th>de_employment_type</th>\n",
       "      <th>de_employment_duration</th>\n",
       "      <th>de_accomodation_type</th>\n",
       "      <th>de_education</th>\n",
       "      <th>...</th>\n",
       "      <th>de_children</th>\n",
       "      <th>ph_total_contacts</th>\n",
       "      <th>ph_other_device_info</th>\n",
       "      <th>ph_call_log_stats</th>\n",
       "      <th>ph_country_code</th>\n",
       "      <th>ph_app_list</th>\n",
       "      <th>fb_gender</th>\n",
       "      <th>fb_dob</th>\n",
       "      <th>fb_last_updated_date</th>\n",
       "      <th>fb_relation</th>\n",
       "    </tr>\n",
       "  </thead>\n",
       "  <tbody>\n",
       "    <tr>\n",
       "      <th>2349</th>\n",
       "      <td>2349</td>\n",
       "      <td>0</td>\n",
       "      <td>32</td>\n",
       "      <td>2</td>\n",
       "      <td>2018-01-16 09:12:00</td>\n",
       "      <td>0</td>\n",
       "      <td>4</td>\n",
       "      <td>0</td>\n",
       "      <td>4</td>\n",
       "      <td>3</td>\n",
       "      <td>...</td>\n",
       "      <td>1</td>\n",
       "      <td>0</td>\n",
       "      <td>{\"device_codename\": \"on7xelte\", \"brand\": \"sams...</td>\n",
       "      <td>{\"percent_incoming_nighttime\": 6.12, \"percent_...</td>\n",
       "      <td>id</td>\n",
       "      <td>['com.vuclip.viu', 'com.quvideo.xiaoying', 'co...</td>\n",
       "      <td>female</td>\n",
       "      <td>02/21/1985</td>\n",
       "      <td>2018-01-12T12:43:52+0000</td>\n",
       "      <td>Married</td>\n",
       "    </tr>\n",
       "  </tbody>\n",
       "</table>\n",
       "<p>1 rows × 21 columns</p>\n",
       "</div>"
      ],
      "text/plain": [
       "      index  flag_bad  de_age  de_gender      de_date_joined  \\\n",
       "2349   2349         0      32          2 2018-01-16 09:12:00   \n",
       "\n",
       "      de_monthly_salary  de_employment_type  de_employment_duration  \\\n",
       "2349                  0                   4                       0   \n",
       "\n",
       "      de_accomodation_type  de_education  ...  de_children  ph_total_contacts  \\\n",
       "2349                     4             3  ...            1                  0   \n",
       "\n",
       "                                   ph_other_device_info  \\\n",
       "2349  {\"device_codename\": \"on7xelte\", \"brand\": \"sams...   \n",
       "\n",
       "                                      ph_call_log_stats ph_country_code  \\\n",
       "2349  {\"percent_incoming_nighttime\": 6.12, \"percent_...              id   \n",
       "\n",
       "                                            ph_app_list fb_gender      fb_dob  \\\n",
       "2349  ['com.vuclip.viu', 'com.quvideo.xiaoying', 'co...    female  02/21/1985   \n",
       "\n",
       "          fb_last_updated_date fb_relation  \n",
       "2349  2018-01-12T12:43:52+0000     Married  \n",
       "\n",
       "[1 rows x 21 columns]"
      ]
     },
     "execution_count": 382,
     "metadata": {},
     "output_type": "execute_result"
    }
   ],
   "source": [
    "# Checking data with monthly salary less than its Q1 value\n",
    "df[df['de_monthly_salary']<3000000]"
   ]
  },
  {
   "cell_type": "code",
   "execution_count": 383,
   "id": "2c47ff5e",
   "metadata": {
    "ExecuteTime": {
     "end_time": "2022-09-05T10:09:19.984137Z",
     "start_time": "2022-09-05T10:09:19.979265Z"
    }
   },
   "outputs": [
    {
     "data": {
      "text/plain": [
       "index                                                                  2349\n",
       "flag_bad                                                                  0\n",
       "de_age                                                                   32\n",
       "de_gender                                                                 2\n",
       "de_date_joined                                          2018-01-16 09:12:00\n",
       "de_monthly_salary                                                         0\n",
       "de_employment_type                                                        4\n",
       "de_employment_duration                                                    0\n",
       "de_accomodation_type                                                      4\n",
       "de_education                                                              3\n",
       "de_marital_status                                                         2\n",
       "de_children                                                               1\n",
       "ph_total_contacts                                                         0\n",
       "ph_other_device_info      {\"device_codename\": \"on7xelte\", \"brand\": \"sams...\n",
       "ph_call_log_stats         {\"percent_incoming_nighttime\": 6.12, \"percent_...\n",
       "ph_country_code                                                          id\n",
       "ph_app_list               ['com.vuclip.viu', 'com.quvideo.xiaoying', 'co...\n",
       "fb_gender                                                            female\n",
       "fb_dob                                                           02/21/1985\n",
       "fb_last_updated_date                               2018-01-12T12:43:52+0000\n",
       "fb_relation                                                         Married\n",
       "Name: 2349, dtype: object"
      ]
     },
     "execution_count": 383,
     "metadata": {},
     "output_type": "execute_result"
    }
   ],
   "source": [
    "# Checking data with index 2349\n",
    "df.iloc[2349]"
   ]
  },
  {
   "cell_type": "markdown",
   "id": "1b355409",
   "metadata": {},
   "source": [
    "As we can see above, this data using employment type 4 which is not exist in the description given. Let's assume that since the user is a married woman, with 0 salary, then she's a housewife, thus unemployed didn't have any employment type input value. However, she is labeled as a good user. How can we measure her ability to pay back the loan? I believe that this is an outlier case and should be removed for modeling purpose."
   ]
  },
  {
   "cell_type": "code",
   "execution_count": 384,
   "id": "3d53fd1b",
   "metadata": {
    "ExecuteTime": {
     "end_time": "2022-09-05T10:09:20.702722Z",
     "start_time": "2022-09-05T10:09:20.692015Z"
    }
   },
   "outputs": [],
   "source": [
    "# Deleting index 2349 of axis 0 (row)\n",
    "df.drop(index=2349, axis=0, inplace=True)"
   ]
  },
  {
   "cell_type": "markdown",
   "id": "c5766008",
   "metadata": {},
   "source": [
    "## de_employment_type"
   ]
  },
  {
   "cell_type": "code",
   "execution_count": 385,
   "id": "aadd506c",
   "metadata": {
    "ExecuteTime": {
     "end_time": "2022-09-05T10:09:21.196202Z",
     "start_time": "2022-09-05T10:09:21.192308Z"
    }
   },
   "outputs": [
    {
     "data": {
      "text/plain": [
       "array([1, 3, 2, 4], dtype=int64)"
      ]
     },
     "execution_count": 385,
     "metadata": {},
     "output_type": "execute_result"
    }
   ],
   "source": [
    "# Checking unique values of employment type\n",
    "df['de_employment_type'].unique()"
   ]
  },
  {
   "cell_type": "code",
   "execution_count": 386,
   "id": "9f6ecc4e",
   "metadata": {
    "ExecuteTime": {
     "end_time": "2022-09-05T10:09:21.453162Z",
     "start_time": "2022-09-05T10:09:21.442455Z"
    }
   },
   "outputs": [
    {
     "data": {
      "text/html": [
       "<div>\n",
       "<style scoped>\n",
       "    .dataframe tbody tr th:only-of-type {\n",
       "        vertical-align: middle;\n",
       "    }\n",
       "\n",
       "    .dataframe tbody tr th {\n",
       "        vertical-align: top;\n",
       "    }\n",
       "\n",
       "    .dataframe thead th {\n",
       "        text-align: right;\n",
       "    }\n",
       "</style>\n",
       "<table border=\"1\" class=\"dataframe\">\n",
       "  <thead>\n",
       "    <tr style=\"text-align: right;\">\n",
       "      <th></th>\n",
       "      <th>index</th>\n",
       "      <th>flag_bad</th>\n",
       "      <th>de_age</th>\n",
       "      <th>de_gender</th>\n",
       "      <th>de_date_joined</th>\n",
       "      <th>de_monthly_salary</th>\n",
       "      <th>de_employment_type</th>\n",
       "      <th>de_employment_duration</th>\n",
       "      <th>de_accomodation_type</th>\n",
       "      <th>de_education</th>\n",
       "      <th>...</th>\n",
       "      <th>de_children</th>\n",
       "      <th>ph_total_contacts</th>\n",
       "      <th>ph_other_device_info</th>\n",
       "      <th>ph_call_log_stats</th>\n",
       "      <th>ph_country_code</th>\n",
       "      <th>ph_app_list</th>\n",
       "      <th>fb_gender</th>\n",
       "      <th>fb_dob</th>\n",
       "      <th>fb_last_updated_date</th>\n",
       "      <th>fb_relation</th>\n",
       "    </tr>\n",
       "  </thead>\n",
       "  <tbody>\n",
       "    <tr>\n",
       "      <th>39390</th>\n",
       "      <td>39390</td>\n",
       "      <td>1</td>\n",
       "      <td>25</td>\n",
       "      <td>1</td>\n",
       "      <td>2018-03-07 03:23:00</td>\n",
       "      <td>3000000</td>\n",
       "      <td>4</td>\n",
       "      <td>24</td>\n",
       "      <td>4</td>\n",
       "      <td>2</td>\n",
       "      <td>...</td>\n",
       "      <td>0</td>\n",
       "      <td>0</td>\n",
       "      <td>{\"device_codename\": \"grandpplte\", \"brand\": \"sa...</td>\n",
       "      <td>{\"percent_incoming_nighttime\": 17.39, \"percent...</td>\n",
       "      <td>id</td>\n",
       "      <td>['com.UCMobile.intl', 'com.mobile.legends', 'c...</td>\n",
       "      <td>NaN</td>\n",
       "      <td>NaN</td>\n",
       "      <td>NaN</td>\n",
       "      <td>NaN</td>\n",
       "    </tr>\n",
       "  </tbody>\n",
       "</table>\n",
       "<p>1 rows × 21 columns</p>\n",
       "</div>"
      ],
      "text/plain": [
       "       index  flag_bad  de_age  de_gender      de_date_joined  \\\n",
       "39390  39390         1      25          1 2018-03-07 03:23:00   \n",
       "\n",
       "       de_monthly_salary  de_employment_type  de_employment_duration  \\\n",
       "39390            3000000                   4                      24   \n",
       "\n",
       "       de_accomodation_type  de_education  ...  de_children  \\\n",
       "39390                     4             2  ...            0   \n",
       "\n",
       "       ph_total_contacts                               ph_other_device_info  \\\n",
       "39390                  0  {\"device_codename\": \"grandpplte\", \"brand\": \"sa...   \n",
       "\n",
       "                                       ph_call_log_stats ph_country_code  \\\n",
       "39390  {\"percent_incoming_nighttime\": 17.39, \"percent...              id   \n",
       "\n",
       "                                             ph_app_list fb_gender fb_dob  \\\n",
       "39390  ['com.UCMobile.intl', 'com.mobile.legends', 'c...       NaN    NaN   \n",
       "\n",
       "      fb_last_updated_date fb_relation  \n",
       "39390                  NaN         NaN  \n",
       "\n",
       "[1 rows x 21 columns]"
      ]
     },
     "execution_count": 386,
     "metadata": {},
     "output_type": "execute_result"
    }
   ],
   "source": [
    "# Checking data with employment type=4, which is not exist in the description\n",
    "df[df['de_employment_type']==4]"
   ]
  },
  {
   "cell_type": "markdown",
   "id": "7bd79951",
   "metadata": {},
   "source": [
    "Since there is only one data with employment type 4, it won't hurt to delete this row."
   ]
  },
  {
   "cell_type": "code",
   "execution_count": 387,
   "id": "f404207d",
   "metadata": {
    "ExecuteTime": {
     "end_time": "2022-09-05T10:09:24.294743Z",
     "start_time": "2022-09-05T10:09:24.283059Z"
    }
   },
   "outputs": [],
   "source": [
    "# Deleting data\n",
    "df.drop(index=39390, axis=0, inplace=True)"
   ]
  },
  {
   "cell_type": "markdown",
   "id": "36b8d43e",
   "metadata": {},
   "source": [
    "## de_employment_duration"
   ]
  },
  {
   "cell_type": "code",
   "execution_count": 388,
   "id": "a3a228e2",
   "metadata": {
    "ExecuteTime": {
     "end_time": "2022-09-05T10:09:24.895615Z",
     "start_time": "2022-09-05T10:09:24.888806Z"
    }
   },
   "outputs": [
    {
     "data": {
      "text/plain": [
       "count    41020.000000\n",
       "mean        33.438932\n",
       "std         16.586103\n",
       "min          1.000000\n",
       "25%         18.000000\n",
       "50%         36.000000\n",
       "75%         51.000000\n",
       "max         51.000000\n",
       "Name: de_employment_duration, dtype: float64"
      ]
     },
     "execution_count": 388,
     "metadata": {},
     "output_type": "execute_result"
    }
   ],
   "source": [
    "# Checking the distribution of employment duration\n",
    "df['de_employment_duration'].describe()"
   ]
  },
  {
   "cell_type": "markdown",
   "id": "d6608a4c",
   "metadata": {},
   "source": [
    "No 0 or negative value. It's OK."
   ]
  },
  {
   "cell_type": "markdown",
   "id": "7c0e75aa",
   "metadata": {},
   "source": [
    "## de_accomodation_type"
   ]
  },
  {
   "cell_type": "code",
   "execution_count": 389,
   "id": "30dbce28",
   "metadata": {
    "ExecuteTime": {
     "end_time": "2022-09-05T10:09:25.486433Z",
     "start_time": "2022-09-05T10:09:25.482544Z"
    }
   },
   "outputs": [
    {
     "data": {
      "text/plain": [
       "array([4], dtype=int64)"
      ]
     },
     "execution_count": 389,
     "metadata": {},
     "output_type": "execute_result"
    }
   ],
   "source": [
    "# Checking unique values of accomodation type\n",
    "df['de_accomodation_type'].unique()"
   ]
  },
  {
   "cell_type": "markdown",
   "id": "a9a003f0",
   "metadata": {},
   "source": [
    "There is only 1 unique value of this column. When everyone has the same feature, we can't distinguish them. So, this feature is unnecessary in predictive model. Let's drop it."
   ]
  },
  {
   "cell_type": "code",
   "execution_count": 390,
   "id": "b28560b7",
   "metadata": {
    "ExecuteTime": {
     "end_time": "2022-09-05T10:09:25.884522Z",
     "start_time": "2022-09-05T10:09:25.874788Z"
    }
   },
   "outputs": [],
   "source": [
    "# Deleting column\n",
    "df.drop(columns='de_accomodation_type',inplace=True)"
   ]
  },
  {
   "cell_type": "markdown",
   "id": "15c7c28a",
   "metadata": {},
   "source": [
    "## de_education"
   ]
  },
  {
   "cell_type": "markdown",
   "id": "771187ac",
   "metadata": {},
   "source": [
    "Let's check whether this column has the same unique values as described."
   ]
  },
  {
   "cell_type": "code",
   "execution_count": 391,
   "id": "9bdd7a7f",
   "metadata": {
    "ExecuteTime": {
     "end_time": "2022-09-05T10:09:26.474363Z",
     "start_time": "2022-09-05T10:09:26.469502Z"
    }
   },
   "outputs": [
    {
     "data": {
      "text/plain": [
       "array([2, 4, 3, 5, 1], dtype=int64)"
      ]
     },
     "execution_count": 391,
     "metadata": {},
     "output_type": "execute_result"
    }
   ],
   "source": [
    "# Checking the unique values of education\n",
    "df['de_education'].unique() # OK"
   ]
  },
  {
   "cell_type": "markdown",
   "id": "7f104a56",
   "metadata": {},
   "source": [
    "## de_marital_status"
   ]
  },
  {
   "cell_type": "markdown",
   "id": "83ddb522",
   "metadata": {},
   "source": [
    "Let's check whether this column has the same unique values as described."
   ]
  },
  {
   "cell_type": "code",
   "execution_count": 392,
   "id": "ae21aadb",
   "metadata": {
    "ExecuteTime": {
     "end_time": "2022-09-05T10:09:27.049603Z",
     "start_time": "2022-09-05T10:09:27.045716Z"
    }
   },
   "outputs": [
    {
     "data": {
      "text/plain": [
       "array([2, 1, 3, 4], dtype=int64)"
      ]
     },
     "execution_count": 392,
     "metadata": {},
     "output_type": "execute_result"
    }
   ],
   "source": [
    "# Checking the unique values of marital status\n",
    "df['de_marital_status'].unique() # OK"
   ]
  },
  {
   "cell_type": "markdown",
   "id": "6e1abf0d",
   "metadata": {},
   "source": [
    "## de_children"
   ]
  },
  {
   "cell_type": "markdown",
   "id": "6cb5d758",
   "metadata": {},
   "source": [
    "Let's see if we have any anomalies with negative value or data with absurd amount of children."
   ]
  },
  {
   "cell_type": "code",
   "execution_count": 393,
   "id": "c368806d",
   "metadata": {
    "ExecuteTime": {
     "end_time": "2022-09-05T10:09:27.579494Z",
     "start_time": "2022-09-05T10:09:27.572677Z"
    }
   },
   "outputs": [
    {
     "data": {
      "text/plain": [
       "count    41020.000000\n",
       "mean         0.706972\n",
       "std          0.929036\n",
       "min          0.000000\n",
       "25%          0.000000\n",
       "50%          0.000000\n",
       "75%          1.000000\n",
       "max          4.000000\n",
       "Name: de_children, dtype: float64"
      ]
     },
     "execution_count": 393,
     "metadata": {},
     "output_type": "execute_result"
    }
   ],
   "source": [
    "# Checking the distribution of number of children data\n",
    "df['de_children'].describe()"
   ]
  },
  {
   "cell_type": "markdown",
   "id": "3ea5f541",
   "metadata": {},
   "source": [
    "Seems OK."
   ]
  },
  {
   "cell_type": "markdown",
   "id": "ba1b2587",
   "metadata": {},
   "source": [
    "## ph_total_contacts"
   ]
  },
  {
   "cell_type": "code",
   "execution_count": 394,
   "id": "ccf52681",
   "metadata": {
    "ExecuteTime": {
     "end_time": "2022-09-05T10:09:28.140368Z",
     "start_time": "2022-09-05T10:09:28.133552Z"
    }
   },
   "outputs": [
    {
     "data": {
      "text/plain": [
       "count    41020.000000\n",
       "mean       127.038762\n",
       "std        319.084722\n",
       "min          0.000000\n",
       "25%          0.000000\n",
       "50%          0.000000\n",
       "75%        144.000000\n",
       "max      17315.000000\n",
       "Name: ph_total_contacts, dtype: float64"
      ]
     },
     "execution_count": 394,
     "metadata": {},
     "output_type": "execute_result"
    }
   ],
   "source": [
    "# Checking distribution of number of contacts data\n",
    "df['ph_total_contacts'].describe()"
   ]
  },
  {
   "cell_type": "markdown",
   "id": "8b486fd0",
   "metadata": {},
   "source": [
    "The same argument with total number of friends, how can this feature help us in the predictive model? I don't think this feature will distinguish people who will able to pay back and who will not. Let's find supporting evidence for this matter."
   ]
  },
  {
   "cell_type": "code",
   "execution_count": 395,
   "id": "0d3b4f7a",
   "metadata": {
    "ExecuteTime": {
     "end_time": "2022-09-05T10:09:28.548923Z",
     "start_time": "2022-09-05T10:09:28.536271Z"
    }
   },
   "outputs": [
    {
     "data": {
      "text/html": [
       "<div>\n",
       "<style scoped>\n",
       "    .dataframe tbody tr th:only-of-type {\n",
       "        vertical-align: middle;\n",
       "    }\n",
       "\n",
       "    .dataframe tbody tr th {\n",
       "        vertical-align: top;\n",
       "    }\n",
       "\n",
       "    .dataframe thead th {\n",
       "        text-align: right;\n",
       "    }\n",
       "</style>\n",
       "<table border=\"1\" class=\"dataframe\">\n",
       "  <thead>\n",
       "    <tr style=\"text-align: right;\">\n",
       "      <th></th>\n",
       "      <th>count</th>\n",
       "      <th>mean</th>\n",
       "      <th>std</th>\n",
       "      <th>min</th>\n",
       "      <th>25%</th>\n",
       "      <th>50%</th>\n",
       "      <th>75%</th>\n",
       "      <th>max</th>\n",
       "    </tr>\n",
       "    <tr>\n",
       "      <th>flag_bad</th>\n",
       "      <th></th>\n",
       "      <th></th>\n",
       "      <th></th>\n",
       "      <th></th>\n",
       "      <th></th>\n",
       "      <th></th>\n",
       "      <th></th>\n",
       "      <th></th>\n",
       "    </tr>\n",
       "  </thead>\n",
       "  <tbody>\n",
       "    <tr>\n",
       "      <th>0</th>\n",
       "      <td>35701.0</td>\n",
       "      <td>127.158847</td>\n",
       "      <td>320.000521</td>\n",
       "      <td>0.0</td>\n",
       "      <td>0.0</td>\n",
       "      <td>0.0</td>\n",
       "      <td>145.0</td>\n",
       "      <td>17315.0</td>\n",
       "    </tr>\n",
       "    <tr>\n",
       "      <th>1</th>\n",
       "      <td>5319.0</td>\n",
       "      <td>126.232751</td>\n",
       "      <td>312.896923</td>\n",
       "      <td>0.0</td>\n",
       "      <td>0.0</td>\n",
       "      <td>0.0</td>\n",
       "      <td>137.0</td>\n",
       "      <td>6687.0</td>\n",
       "    </tr>\n",
       "  </tbody>\n",
       "</table>\n",
       "</div>"
      ],
      "text/plain": [
       "            count        mean         std  min  25%  50%    75%      max\n",
       "flag_bad                                                                \n",
       "0         35701.0  127.158847  320.000521  0.0  0.0  0.0  145.0  17315.0\n",
       "1          5319.0  126.232751  312.896923  0.0  0.0  0.0  137.0   6687.0"
      ]
     },
     "execution_count": 395,
     "metadata": {},
     "output_type": "execute_result"
    }
   ],
   "source": [
    "# Checking the distribution of number of contacts, stratified by flag_bad\n",
    "df.groupby(df['flag_bad'])['ph_total_contacts'].describe()"
   ]
  },
  {
   "cell_type": "markdown",
   "id": "961da353",
   "metadata": {},
   "source": [
    "With comparable values of mean, Q1, Q2, and Q3, subjectively, there are no difference of number of contacts between good and bad users. Thus, let's **drop** this column."
   ]
  },
  {
   "cell_type": "code",
   "execution_count": 396,
   "id": "5b459cb0",
   "metadata": {
    "ExecuteTime": {
     "end_time": "2022-09-05T10:09:28.977191Z",
     "start_time": "2022-09-05T10:09:28.967458Z"
    }
   },
   "outputs": [],
   "source": [
    "df.drop(columns='ph_total_contacts',inplace=True)"
   ]
  },
  {
   "cell_type": "markdown",
   "id": "41316fdb",
   "metadata": {},
   "source": [
    "## ph_other_device_info"
   ]
  },
  {
   "cell_type": "code",
   "execution_count": 397,
   "id": "e71dcad1",
   "metadata": {
    "ExecuteTime": {
     "end_time": "2022-09-05T10:09:29.409351Z",
     "start_time": "2022-09-05T10:09:29.404490Z"
    }
   },
   "outputs": [
    {
     "data": {
      "text/plain": [
       "0        {\"device_codename\": \"HM2014817\", \"brand\": \"Xia...\n",
       "1            {\"device_codename\": \"A1601\", \"brand\": \"OPPO\"}\n",
       "2            {\"device_codename\": \"A1601\", \"brand\": \"OPPO\"}\n",
       "3            {\"device_codename\": \"A1601\", \"brand\": \"OPPO\"}\n",
       "4             {\"device_codename\": \"1609\", \"brand\": \"vivo\"}\n",
       "                               ...                        \n",
       "41017        {\"device_codename\": \"A1601\", \"brand\": \"OPPO\"}\n",
       "41018      {\"device_codename\": \"nikel\", \"brand\": \"Xiaomi\"}\n",
       "41019      {\"device_codename\": \"a33g\", \"brand\": \"samsung\"}\n",
       "41020    {\"device_codename\": \"santoni\", \"brand\": \"Xiaomi\"}\n",
       "41021    {\"device_codename\": \"ugglite\", \"brand\": \"xiaomi\"}\n",
       "Name: ph_other_device_info, Length: 41020, dtype: object"
      ]
     },
     "execution_count": 397,
     "metadata": {},
     "output_type": "execute_result"
    }
   ],
   "source": [
    "df['ph_other_device_info']"
   ]
  },
  {
   "cell_type": "markdown",
   "id": "8fbf400d",
   "metadata": {},
   "source": [
    "Based on columns available, we only have the monthly salary of user that indicates their potential spending power. How about their spending habit? At first, I am planning to drop this feature, because logically, the type of user phone won't affect their ability to pay back their loan. However..."
   ]
  },
  {
   "cell_type": "markdown",
   "id": "a60e06ea",
   "metadata": {},
   "source": [
    "This is quite a stretch, but maybe the codename and brand of user's phone will **indirectly** reflect the spending habit of the user. That's because each phone has its price/value, even if it's not stated directly in the dataset. When comparing this information with user salary, the bigger the differences between the price and salary will reflect the spending habit of the user. For example, for someone with low salary, let's say Rp. 3.000.000,-, to have a Samsung S22+ (Rp. 12.000.000,-) will be too risky/bold. With that spending habit, with not good financial preparation, the user will definitely labeled as bad. But first, let's retrieve information from the feature."
   ]
  },
  {
   "cell_type": "code",
   "execution_count": 398,
   "id": "93ea4892",
   "metadata": {
    "ExecuteTime": {
     "end_time": "2022-09-05T10:09:30.022552Z",
     "start_time": "2022-09-05T10:09:30.017685Z"
    }
   },
   "outputs": [
    {
     "data": {
      "text/plain": [
       "['{', 'device_codename', ': ', 'HM2014817', ', ', 'brand', ': ', 'Xiaomi', '}']"
      ]
     },
     "execution_count": 398,
     "metadata": {},
     "output_type": "execute_result"
    }
   ],
   "source": [
    "# Checking split and position\n",
    "df['ph_other_device_info'][0].split('\"')"
   ]
  },
  {
   "cell_type": "code",
   "execution_count": 399,
   "id": "7ee0f0b6",
   "metadata": {
    "ExecuteTime": {
     "end_time": "2022-09-05T10:09:30.258099Z",
     "start_time": "2022-09-05T10:09:30.230846Z"
    }
   },
   "outputs": [],
   "source": [
    "# Retrieving information\n",
    "device_codename=[]\n",
    "brand=[]\n",
    "phone=[]\n",
    "for i in df['ph_other_device_info']:\n",
    "    i=i.split('\"') # Split string into list\n",
    "    device_codename.append(i[3].lower())\n",
    "    brand.append(i[7].lower())"
   ]
  },
  {
   "cell_type": "code",
   "execution_count": 400,
   "id": "b57edf5b",
   "metadata": {
    "ExecuteTime": {
     "end_time": "2022-09-05T10:09:30.441086Z",
     "start_time": "2022-09-05T10:09:30.434273Z"
    }
   },
   "outputs": [],
   "source": [
    "# Creating columns\n",
    "df['ph_device_codename']=device_codename\n",
    "df['ph_brand']=brand"
   ]
  },
  {
   "cell_type": "code",
   "execution_count": 401,
   "id": "6d698054",
   "metadata": {
    "ExecuteTime": {
     "end_time": "2022-09-05T10:09:30.615319Z",
     "start_time": "2022-09-05T10:09:30.600761Z"
    },
    "scrolled": false
   },
   "outputs": [
    {
     "data": {
      "text/html": [
       "<div>\n",
       "<style scoped>\n",
       "    .dataframe tbody tr th:only-of-type {\n",
       "        vertical-align: middle;\n",
       "    }\n",
       "\n",
       "    .dataframe tbody tr th {\n",
       "        vertical-align: top;\n",
       "    }\n",
       "\n",
       "    .dataframe thead th {\n",
       "        text-align: right;\n",
       "    }\n",
       "</style>\n",
       "<table border=\"1\" class=\"dataframe\">\n",
       "  <thead>\n",
       "    <tr style=\"text-align: right;\">\n",
       "      <th></th>\n",
       "      <th>ph_device_codename</th>\n",
       "      <th>ph_brand</th>\n",
       "    </tr>\n",
       "  </thead>\n",
       "  <tbody>\n",
       "    <tr>\n",
       "      <th>0</th>\n",
       "      <td>hm2014817</td>\n",
       "      <td>xiaomi</td>\n",
       "    </tr>\n",
       "    <tr>\n",
       "      <th>1</th>\n",
       "      <td>a1601</td>\n",
       "      <td>oppo</td>\n",
       "    </tr>\n",
       "    <tr>\n",
       "      <th>2</th>\n",
       "      <td>a1601</td>\n",
       "      <td>oppo</td>\n",
       "    </tr>\n",
       "    <tr>\n",
       "      <th>3</th>\n",
       "      <td>a1601</td>\n",
       "      <td>oppo</td>\n",
       "    </tr>\n",
       "    <tr>\n",
       "      <th>4</th>\n",
       "      <td>1609</td>\n",
       "      <td>vivo</td>\n",
       "    </tr>\n",
       "  </tbody>\n",
       "</table>\n",
       "</div>"
      ],
      "text/plain": [
       "  ph_device_codename ph_brand\n",
       "0          hm2014817   xiaomi\n",
       "1              a1601     oppo\n",
       "2              a1601     oppo\n",
       "3              a1601     oppo\n",
       "4               1609     vivo"
      ]
     },
     "execution_count": 401,
     "metadata": {},
     "output_type": "execute_result"
    }
   ],
   "source": [
    "# Checking columns\n",
    "df[['ph_device_codename','ph_brand']][0:5]"
   ]
  },
  {
   "cell_type": "code",
   "execution_count": 402,
   "id": "79bfe9a7",
   "metadata": {
    "ExecuteTime": {
     "end_time": "2022-09-05T10:09:30.815820Z",
     "start_time": "2022-09-05T10:09:30.809007Z"
    }
   },
   "outputs": [
    {
     "data": {
      "text/plain": [
       "1040"
      ]
     },
     "execution_count": 402,
     "metadata": {},
     "output_type": "execute_result"
    }
   ],
   "source": [
    "# Checking number of unique values\n",
    "df['ph_device_codename'].nunique()"
   ]
  },
  {
   "cell_type": "markdown",
   "id": "877edc89",
   "metadata": {},
   "source": [
    "This feature has a high cardinality. Let's use brand instead, to represents them. The assumption is that specific brand is more expensive/cheaper than the other."
   ]
  },
  {
   "cell_type": "code",
   "execution_count": 403,
   "id": "5f2d7424",
   "metadata": {
    "ExecuteTime": {
     "end_time": "2022-09-05T10:09:31.228517Z",
     "start_time": "2022-09-05T10:09:31.216834Z"
    }
   },
   "outputs": [],
   "source": [
    "# Dropping column\n",
    "df.drop(columns='ph_device_codename',inplace=True)"
   ]
  },
  {
   "cell_type": "code",
   "execution_count": 404,
   "id": "697c9457",
   "metadata": {
    "ExecuteTime": {
     "end_time": "2022-09-05T10:09:31.432356Z",
     "start_time": "2022-09-05T10:09:31.425539Z"
    }
   },
   "outputs": [
    {
     "data": {
      "text/plain": [
       "array(['xiaomi', 'oppo', 'vivo', 'samsung', 'lge', 'asus', 'lenovo',\n",
       "       'r50a', 'tcl', 'smartfren', 'motorola', 'sony', 'lava', 'apple',\n",
       "       'zte', 'docomo', 'evercoss', 'honor', 'infinix', 'huawei',\n",
       "       'blackberry', 'google', 'polytron', 'coolpad', 'meizu', 'advan',\n",
       "       'nokia', 'acer', 'axioo', 'wiko', 'sbm', 'ivo', 'doogee', 'm23i',\n",
       "       'himax', 'luna', 'evercoss-a75l', 'kddi', 'elevate', 'htc', 'at8d',\n",
       "       'icherry', 'r50b', 'blackview', 'blaupunkt', 'aplus', 'oneplus',\n",
       "       'sg', 'sgp', 'iris510', 'polytron_l501', 'alps', 'pixel v2+',\n",
       "       'oukitel', 'hisense', 'zuk', 'evercoss a7b', 'spc', 'mobistel',\n",
       "       'polymer_x', 'gionee', 'nubia', 'welcome', 's7', 'bluebird',\n",
       "       'maxtron', 'sharp', 'hp', 'haier', 'umidigi', 'letv', 'cxq',\n",
       "       'ragentek', 'verizon', 'imo s50', 'nextbit', 'cmcc', 'mito',\n",
       "       'kata', 'af9900', 'b6s', 'iphone', 'kyocera', 'qcom', 'vodafone',\n",
       "       'xiaomi nitrogen', 'f6', 'mito a33', 'prince', 'leeco', 'android',\n",
       "       'ulefone', 'meiigoo', 'umi', 'novo', 'razer', 'mito a39',\n",
       "       'wizphone', 'evercoss a7d', 'nuu', 'dewav', 'vkworld', 'b6s pro',\n",
       "       'philips', 'evercoss a7a*', 'imo s90', 'o3'], dtype=object)"
      ]
     },
     "execution_count": 404,
     "metadata": {},
     "output_type": "execute_result"
    }
   ],
   "source": [
    "# Checking unique values of brand\n",
    "df['ph_brand'].unique()"
   ]
  },
  {
   "cell_type": "markdown",
   "id": "61031206",
   "metadata": {},
   "source": [
    "There are data of device codename as brand, such as r50a which is type of evercross phone, or evercross a7d. To address with that issue and simplify this feature, I selected several well-known brands: Xiaomi, OPPO, Vivo, Samsung, ASUS, Lenovo, Apple, and Huawei. Other than that, we will classify them as 'Others'."
   ]
  },
  {
   "cell_type": "code",
   "execution_count": 405,
   "id": "d9299e1b",
   "metadata": {
    "ExecuteTime": {
     "end_time": "2022-09-05T10:09:31.850429Z",
     "start_time": "2022-09-05T10:09:31.840691Z"
    }
   },
   "outputs": [],
   "source": [
    "# Selecting index of Others brand\n",
    "index=df[~df['ph_brand'].isin(['xiaomi','oppo','vivo','samsung','asus','lenovo','apple','huawei'])].index\n",
    "# Changing their value to 'Others'\n",
    "df.loc[index,'ph_brand']='Others'"
   ]
  },
  {
   "cell_type": "code",
   "execution_count": 406,
   "id": "df0ca0ee",
   "metadata": {
    "ExecuteTime": {
     "end_time": "2022-09-05T10:09:32.113224Z",
     "start_time": "2022-09-05T10:09:32.106416Z"
    }
   },
   "outputs": [
    {
     "data": {
      "text/plain": [
       "xiaomi     13764\n",
       "samsung     8869\n",
       "oppo        7474\n",
       "Others      4020\n",
       "vivo        2460\n",
       "asus        2425\n",
       "lenovo      1484\n",
       "apple        299\n",
       "huawei       225\n",
       "Name: ph_brand, dtype: int64"
      ]
     },
     "execution_count": 406,
     "metadata": {},
     "output_type": "execute_result"
    }
   ],
   "source": [
    "# Checking the count of each value of brand\n",
    "df['ph_brand'].value_counts()"
   ]
  },
  {
   "cell_type": "code",
   "execution_count": 407,
   "id": "10da842b",
   "metadata": {
    "ExecuteTime": {
     "end_time": "2022-09-05T10:09:32.339904Z",
     "start_time": "2022-09-05T10:09:32.330170Z"
    }
   },
   "outputs": [],
   "source": [
    "# Lastly, let's delete ph_other_device_info\n",
    "df.drop(columns='ph_other_device_info',inplace=True)"
   ]
  },
  {
   "cell_type": "markdown",
   "id": "99bec760",
   "metadata": {},
   "source": [
    "## ph_call_log_stats"
   ]
  },
  {
   "cell_type": "code",
   "execution_count": 408,
   "id": "e89957f1",
   "metadata": {
    "ExecuteTime": {
     "end_time": "2022-09-05T10:09:32.817061Z",
     "start_time": "2022-09-05T10:09:32.813168Z"
    }
   },
   "outputs": [
    {
     "data": {
      "text/plain": [
       "'{\"percent_incoming_nighttime\": 1.83, \"percent_outgoing_daytime\": 28.44, \"duration_incoming_daytime\": 1195, \"duration_outgoing_daytime\": 1164, \"percent_incoming_daytime\": 3.67, \"percent_other_calls\": 2.75, \"duration_outgoing_nighttime\": 42358, \"percent_outgoing_nighttime\": 63.3, \"total_calls\": 109, \"duration_incoming_nighttime\": 293}'"
      ]
     },
     "execution_count": 408,
     "metadata": {},
     "output_type": "execute_result"
    }
   ],
   "source": [
    "# Checking the value of this column\n",
    "df['ph_call_log_stats'][0]"
   ]
  },
  {
   "cell_type": "code",
   "execution_count": 409,
   "id": "a1c564cd",
   "metadata": {
    "ExecuteTime": {
     "end_time": "2022-09-05T10:09:33.078888Z",
     "start_time": "2022-09-05T10:09:33.073048Z"
    }
   },
   "outputs": [
    {
     "data": {
      "text/plain": [
       "2087"
      ]
     },
     "execution_count": 409,
     "metadata": {},
     "output_type": "execute_result"
    }
   ],
   "source": [
    "# Checking the number of missing values\n",
    "df['ph_call_log_stats'].isna().sum()"
   ]
  },
  {
   "cell_type": "markdown",
   "id": "64e8dc34",
   "metadata": {},
   "source": [
    "I tried to think but didn't find a reasonable statement that will make this feature help us to build the prediction model. Let's **drop** this column."
   ]
  },
  {
   "cell_type": "code",
   "execution_count": 410,
   "id": "45a4302d",
   "metadata": {
    "ExecuteTime": {
     "end_time": "2022-09-05T10:09:33.518839Z",
     "start_time": "2022-09-05T10:09:33.509106Z"
    }
   },
   "outputs": [],
   "source": [
    "# Deleting column\n",
    "df.drop(columns='ph_call_log_stats',inplace=True)"
   ]
  },
  {
   "cell_type": "markdown",
   "id": "caa77754",
   "metadata": {},
   "source": [
    "## ph_country_code"
   ]
  },
  {
   "cell_type": "code",
   "execution_count": 411,
   "id": "21272245",
   "metadata": {
    "ExecuteTime": {
     "end_time": "2022-09-05T10:09:33.937374Z",
     "start_time": "2022-09-05T10:09:33.930556Z"
    }
   },
   "outputs": [
    {
     "data": {
      "text/plain": [
       "id    40982\n",
       "us        3\n",
       "sg        3\n",
       "my        2\n",
       "jp        2\n",
       "tw        1\n",
       "kh        1\n",
       "th        1\n",
       "Name: ph_country_code, dtype: int64"
      ]
     },
     "execution_count": 411,
     "metadata": {},
     "output_type": "execute_result"
    }
   ],
   "source": [
    "# Checking the counts of each unique value of country code\n",
    "df['ph_country_code'].value_counts()"
   ]
  },
  {
   "cell_type": "code",
   "execution_count": 412,
   "id": "8a6853ac",
   "metadata": {
    "ExecuteTime": {
     "end_time": "2022-09-05T10:09:34.163183Z",
     "start_time": "2022-09-05T10:09:34.158316Z"
    }
   },
   "outputs": [
    {
     "data": {
      "text/plain": [
       "25"
      ]
     },
     "execution_count": 412,
     "metadata": {},
     "output_type": "execute_result"
    }
   ],
   "source": [
    "# Checking number of missing values of the column\n",
    "df['ph_country_code'].isna().sum()"
   ]
  },
  {
   "cell_type": "markdown",
   "id": "e15f21ad",
   "metadata": {},
   "source": [
    "Since majority of the data come from Indonesia, let's drop this feature."
   ]
  },
  {
   "cell_type": "code",
   "execution_count": 413,
   "id": "d3f39e03",
   "metadata": {
    "ExecuteTime": {
     "end_time": "2022-09-05T10:09:34.586587Z",
     "start_time": "2022-09-05T10:09:34.576850Z"
    }
   },
   "outputs": [],
   "source": [
    "# Deleting column\n",
    "df.drop(columns='ph_country_code',inplace=True)"
   ]
  },
  {
   "cell_type": "markdown",
   "id": "6bbedc86",
   "metadata": {},
   "source": [
    "## ph_app_list"
   ]
  },
  {
   "cell_type": "code",
   "execution_count": 414,
   "id": "99c1997f",
   "metadata": {
    "ExecuteTime": {
     "end_time": "2022-09-05T10:09:34.990521Z",
     "start_time": "2022-09-05T10:09:34.980783Z"
    }
   },
   "outputs": [
    {
     "data": {
      "text/plain": [
       "\"['com.google.android.music', 'com.facebook.orca', 'com.MantisGames.DriftandRallyFREE', 'com.apps.MyXL', 'com.google.android.instantapps.supervisor', 'com.classicpvcmob.bombermanclassic', 'com.miui.player', 'com.grabtaxi.passenger', 'com.google.android.play.games', 'com.google.android.videos', 'com.mi.global.bbs', 'com.xiaomi.ab', 'com.google.android.apps.maps', 'com.google.android.youtube', 'com.mfashiongallery.emag', 'com.touchtype.swiftkey', 'com.swiftkey.swiftkeyconfigurator', 'com.yunwu.fishgame', 'com.whatsapp', 'cn.wps.moffice_eng', 'com.adapps.surahmaryamyusuf.di', 'com.facebook.katana', 'com.google.android.inputmethod.pinyin', 'com.android.browser', 'com.kp.mariberibadah', 'com.uc.browser.en', 'com.google.android.gm', 'com.google.android.setupwizard', 'com.google.android.apps.plus', 'com.ql.android', 'com.finaccel.android', 'com.FaGame.Parking', 'com.google.android.talk', 'com.imo.android.imoim', 'com.kolam.hadiah', 'com.android.vending', 'com.waze', 'com.shopee.id', 'com.swiftkey.languageprovider', 'com.google.android.apps.docs', 'com.indivara.jneone', 'app.bpjs.mobile', 'com.Zigacu.DownHillBikeSimulatorMultiplayer', 'com.miui.klo.bugreport', 'com.gcart.android.gbsm', 'com.instagram.android', 'com.google.android.street', 'com.snapcart.android', 'com.miui.enbbs', 'com.google.android.apps.magazines', 'com.google.android.apps.books', 'com.google.android.googlequicksearchbox', 'com.lenovo.anyshare.gps', 'com.bbm']\""
      ]
     },
     "execution_count": 414,
     "metadata": {},
     "output_type": "execute_result"
    }
   ],
   "source": [
    "# Checking apps of good user 1\n",
    "df[df['flag_bad']==0]['ph_app_list'][0]"
   ]
  },
  {
   "cell_type": "code",
   "execution_count": 415,
   "id": "0cb7b103",
   "metadata": {
    "ExecuteTime": {
     "end_time": "2022-09-05T10:09:35.201735Z",
     "start_time": "2022-09-05T10:09:35.191030Z"
    }
   },
   "outputs": [
    {
     "data": {
      "text/plain": [
       "\"['com.instagram.android', 'com.google.android.instantapps.supervisor', 'com.monotype.android.font.pal.hand', 'com.whatsapp', 'com.khaso.alquran.holybook.read.offline', 'app.android.ninestore', 'cn.wps.moffice_eng', 'com.grabtaxi.passenger', 'com.shopee.id', 'vStudio.Android.Camera360', 'com.finaccel.android', 'com.bbm', 'com.tokopedia.tkpd', 'com.gojek.app', 'org.detikcom.rss', 'com.vsco.cam', 'com.r22software.fisheye2', 'org.whiteglow.keepmynotes', 'com.UCMobile.intl', 'com.bca', 'com.google.android.apps.plus', 'com.facebook.katana', 'com.app.tokobagus.betterb', 'com.facebook.orca', 'com.lenovo.anyshare.gps', 'com.atomic.apps.ringtone.cutter']\""
      ]
     },
     "execution_count": 415,
     "metadata": {},
     "output_type": "execute_result"
    }
   ],
   "source": [
    "# Checking apps of good user 2\n",
    "df[df['flag_bad']==0]['ph_app_list'][41017]"
   ]
  },
  {
   "cell_type": "code",
   "execution_count": 416,
   "id": "a4af654d",
   "metadata": {
    "ExecuteTime": {
     "end_time": "2022-09-05T10:09:35.411004Z",
     "start_time": "2022-09-05T10:09:35.405165Z"
    }
   },
   "outputs": [
    {
     "data": {
      "text/plain": [
       "\"['com.tencent.ibg.joox', 'com.mrgames.larvaaction', 'com.gojek.app', 'com.melon.langitmusik', 'com.waze', 'com.facebook.katana', 'com.twitter.android', 'cc.doupai.i18n', 'com.mrgames.larvaheroesfree', 'com.visu.funny.editor.video', 'com.whatsapp', 'com.quvideo.xiaoying', 'com.gojek.driver.car', 'com.boltsuper4g.ioda', 'com.appster.facejjang.plus2', 'com.ubercab', 'com.ubercab.driver', 'com.bca', 'fb.video.downloader', 'tv.hooq.android', 'com.app.tokobagus.betterb', 'com.grabtaxi.passenger', 'org.zwanoo.android.speedtest', 'io.silvrr.installment', 'com.lazada.android', 'com.vshow.me', 'com.steam.photoeditor', 'com.kiloo.subwaysurf', 'com.google.android.apps.translate', 'sg.bigo.live', 'com.melgames.videocompress', 'com.google.android.apps.docs.editors.sheets', 'bestfreelivewallpapers.funny_photo_editor', 'com.google.android.instantapps.supervisor', 'com.finaccel.android', 'com.appster.facejjang', 'com.facebook.orca', 'com.linecorp.b612.android', 'com.vuclip.viu', 'cn.wps.moffice_eng', 'com.solidapp.whatscan', 'com.instagram.android', 'ch.smalltech.battery.free', 'org.telegram.messenger', 'ovo.id', 'com.roidapp.photogrid', 'com.telkomsel.telkomselcm']\""
      ]
     },
     "execution_count": 416,
     "metadata": {},
     "output_type": "execute_result"
    }
   ],
   "source": [
    "# Checking apps of bad user 1\n",
    "df[df['flag_bad']==1]['ph_app_list'][2]"
   ]
  },
  {
   "cell_type": "code",
   "execution_count": 417,
   "id": "ee6ffbc8",
   "metadata": {
    "ExecuteTime": {
     "end_time": "2022-09-05T10:09:35.636826Z",
     "start_time": "2022-09-05T10:09:35.630009Z"
    }
   },
   "outputs": [
    {
     "data": {
      "text/plain": [
       "\"['com.facebook.orca', 'com.samsung.android.videolist', 'com.telkomsel.telkomselcm', 'com.finaccel.android', 'com.instagram.android', 'com.firsttouchgames.dls3', 'com.lenovo.anyshare.gps', 'cm.aptoide.pt', 'com.lbe.parallel.intl', 'com.google.android.play.games', 'com.lazada.android', 'com.google.android.instantapps.supervisor', 'com.netease.chiji', 'com.duapps.recorder', 'com.samsung.updatecarriermatch', 'com.Yareel', 'com.google.android.apps.translate', 'com.UCMobile.intl', 'br.com.rodrigokolb.realdrum', 'com.whatsapp']\""
      ]
     },
     "execution_count": 417,
     "metadata": {},
     "output_type": "execute_result"
    }
   ],
   "source": [
    "# Checking apps of bad user 2\n",
    "df[df['flag_bad']==1]['ph_app_list'][40984]"
   ]
  },
  {
   "cell_type": "markdown",
   "id": "6bee6c15",
   "metadata": {},
   "source": [
    "**Change 1** Amount of Apps."
   ]
  },
  {
   "cell_type": "code",
   "execution_count": 418,
   "id": "43f8e4de",
   "metadata": {
    "ExecuteTime": {
     "end_time": "2022-09-05T10:09:36.496150Z",
     "start_time": "2022-09-05T10:09:36.394806Z"
    }
   },
   "outputs": [],
   "source": [
    "amount_apps = []\n",
    "for i in df['ph_app_list']:\n",
    "    i = i.split(',')\n",
    "    z = len(i)\n",
    "    amount_apps.append(z)\n",
    "df['Amount_Apps']=amount_apps"
   ]
  },
  {
   "cell_type": "code",
   "execution_count": 419,
   "id": "c8ae37e8",
   "metadata": {
    "ExecuteTime": {
     "end_time": "2022-09-05T10:09:36.626577Z",
     "start_time": "2022-09-05T10:09:36.615866Z"
    }
   },
   "outputs": [],
   "source": [
    "df.drop(columns=['ph_app_list'], inplace=True)"
   ]
  },
  {
   "cell_type": "markdown",
   "id": "92315279",
   "metadata": {},
   "source": [
    "## fb_gender"
   ]
  },
  {
   "cell_type": "code",
   "execution_count": 420,
   "id": "6cfa63f1",
   "metadata": {
    "ExecuteTime": {
     "end_time": "2022-09-05T10:09:37.155107Z",
     "start_time": "2022-09-05T10:09:37.150244Z"
    }
   },
   "outputs": [
    {
     "data": {
      "text/plain": [
       "array(['male', 'female', nan], dtype=object)"
      ]
     },
     "execution_count": 420,
     "metadata": {},
     "output_type": "execute_result"
    }
   ],
   "source": [
    "# Checking for unique values of the column\n",
    "df['fb_gender'].unique()"
   ]
  },
  {
   "cell_type": "code",
   "execution_count": 421,
   "id": "f3837cca",
   "metadata": {
    "ExecuteTime": {
     "end_time": "2022-09-05T10:09:37.368271Z",
     "start_time": "2022-09-05T10:09:37.363404Z"
    }
   },
   "outputs": [
    {
     "data": {
      "text/plain": [
       "1512"
      ]
     },
     "execution_count": 421,
     "metadata": {},
     "output_type": "execute_result"
    }
   ],
   "source": [
    "# Checking for number of missing values\n",
    "df['fb_gender'].isna().sum()"
   ]
  },
  {
   "cell_type": "code",
   "execution_count": 422,
   "id": "8ed01bfb",
   "metadata": {
    "ExecuteTime": {
     "end_time": "2022-09-05T10:09:37.587268Z",
     "start_time": "2022-09-05T10:09:37.579481Z"
    }
   },
   "outputs": [
    {
     "data": {
      "text/plain": [
       "0    228\n",
       "1     75\n",
       "Name: flag_bad, dtype: int64"
      ]
     },
     "execution_count": 422,
     "metadata": {},
     "output_type": "execute_result"
    }
   ],
   "source": [
    "# Checking for inconsistency 1\n",
    "df[(df['de_gender']==2)&(df['fb_gender']=='male')]['flag_bad'].value_counts()"
   ]
  },
  {
   "cell_type": "code",
   "execution_count": 423,
   "id": "9cc16307",
   "metadata": {
    "ExecuteTime": {
     "end_time": "2022-09-05T10:09:37.897766Z",
     "start_time": "2022-09-05T10:09:37.889980Z"
    }
   },
   "outputs": [
    {
     "data": {
      "text/plain": [
       "0    371\n",
       "1     84\n",
       "Name: flag_bad, dtype: int64"
      ]
     },
     "execution_count": 423,
     "metadata": {},
     "output_type": "execute_result"
    }
   ],
   "source": [
    "# Checking for inconsistency 2\n",
    "df[(df['de_gender']==1)&(df['fb_gender']=='female')]['flag_bad'].value_counts()"
   ]
  },
  {
   "cell_type": "markdown",
   "id": "af60837b",
   "metadata": {},
   "source": [
    "We have 303+455 gender data from FB that didn't match the data manually inputted by user. The question is: \"Which one is the right one?\", we can't know for sure. Thus, let's believe data which manually inputted by user was the right one, because it's the complete one without missing value."
   ]
  },
  {
   "cell_type": "markdown",
   "id": "6d22320c",
   "metadata": {},
   "source": [
    "## fb_dob"
   ]
  },
  {
   "cell_type": "markdown",
   "id": "17dde3a9",
   "metadata": {},
   "source": [
    "I believe that the information from Facebook were only used to crosscheck the data received from the user. So, let's check whether someone was lying about their age."
   ]
  },
  {
   "cell_type": "code",
   "execution_count": 424,
   "id": "c3507289",
   "metadata": {
    "ExecuteTime": {
     "end_time": "2022-09-05T10:09:39.712201Z",
     "start_time": "2022-09-05T10:09:39.684944Z"
    }
   },
   "outputs": [],
   "source": [
    "# Changing data type\n",
    "df['fb_dob']=pd.to_datetime(df['fb_dob'])"
   ]
  },
  {
   "cell_type": "code",
   "execution_count": 425,
   "id": "c7986fc8",
   "metadata": {
    "ExecuteTime": {
     "end_time": "2022-09-05T10:09:39.913280Z",
     "start_time": "2022-09-05T10:09:39.905490Z"
    }
   },
   "outputs": [
    {
     "name": "stderr",
     "output_type": "stream",
     "text": [
      "C:\\Anaconda\\lib\\site-packages\\pandas\\core\\indexing.py:1817: SettingWithCopyWarning: \n",
      "A value is trying to be set on a copy of a slice from a DataFrame.\n",
      "Try using .loc[row_indexer,col_indexer] = value instead\n",
      "\n",
      "See the caveats in the documentation: https://pandas.pydata.org/pandas-docs/stable/user_guide/indexing.html#returning-a-view-versus-a-copy\n",
      "  self._setitem_single_column(loc, value, pi)\n"
     ]
    }
   ],
   "source": [
    "# Creating new df\n",
    "check=df[['fb_dob','de_age','de_date_joined']]\n",
    "# Filling NA with random date\n",
    "index=check[check['fb_dob'].isna()].index\n",
    "check.loc[index,'fb_dob']='2020-01-01'"
   ]
  },
  {
   "cell_type": "code",
   "execution_count": 426,
   "id": "f54e4d10",
   "metadata": {
    "ExecuteTime": {
     "end_time": "2022-09-05T10:09:40.382531Z",
     "start_time": "2022-09-05T10:09:40.126210Z"
    }
   },
   "outputs": [
    {
     "name": "stderr",
     "output_type": "stream",
     "text": [
      "C:\\Users\\CHINKI~1\\AppData\\Local\\Temp/ipykernel_24256/3198958324.py:10: SettingWithCopyWarning: \n",
      "A value is trying to be set on a copy of a slice from a DataFrame.\n",
      "Try using .loc[row_indexer,col_indexer] = value instead\n",
      "\n",
      "See the caveats in the documentation: https://pandas.pydata.org/pandas-docs/stable/user_guide/indexing.html#returning-a-view-versus-a-copy\n",
      "  check['check_age']=age\n"
     ]
    }
   ],
   "source": [
    "# Checking age from the difference of fb_dob and date_joined\n",
    "a=check['de_date_joined']-check['fb_dob']\n",
    "a=a.astype('str')\n",
    "age=[]\n",
    "for i in a:\n",
    "    z=i.split(' ')[0]\n",
    "    z=int(z)\n",
    "    z=z//365\n",
    "    age.append(z)\n",
    "check['check_age']=age"
   ]
  },
  {
   "cell_type": "code",
   "execution_count": 427,
   "id": "199bf2af",
   "metadata": {
    "ExecuteTime": {
     "end_time": "2022-09-05T10:09:40.609318Z",
     "start_time": "2022-09-05T10:09:40.598607Z"
    }
   },
   "outputs": [
    {
     "data": {
      "text/html": [
       "<div>\n",
       "<style scoped>\n",
       "    .dataframe tbody tr th:only-of-type {\n",
       "        vertical-align: middle;\n",
       "    }\n",
       "\n",
       "    .dataframe tbody tr th {\n",
       "        vertical-align: top;\n",
       "    }\n",
       "\n",
       "    .dataframe thead th {\n",
       "        text-align: right;\n",
       "    }\n",
       "</style>\n",
       "<table border=\"1\" class=\"dataframe\">\n",
       "  <thead>\n",
       "    <tr style=\"text-align: right;\">\n",
       "      <th></th>\n",
       "      <th>fb_dob</th>\n",
       "      <th>de_age</th>\n",
       "      <th>de_date_joined</th>\n",
       "      <th>check_age</th>\n",
       "    </tr>\n",
       "  </thead>\n",
       "  <tbody>\n",
       "    <tr>\n",
       "      <th>1</th>\n",
       "      <td>1995-01-20</td>\n",
       "      <td>22</td>\n",
       "      <td>2018-02-01 17:17:00</td>\n",
       "      <td>23</td>\n",
       "    </tr>\n",
       "    <tr>\n",
       "      <th>5</th>\n",
       "      <td>1988-10-17</td>\n",
       "      <td>27</td>\n",
       "      <td>2018-01-01 12:51:00</td>\n",
       "      <td>29</td>\n",
       "    </tr>\n",
       "    <tr>\n",
       "      <th>6</th>\n",
       "      <td>1988-04-29</td>\n",
       "      <td>29</td>\n",
       "      <td>2018-06-01 01:05:00</td>\n",
       "      <td>30</td>\n",
       "    </tr>\n",
       "    <tr>\n",
       "      <th>12</th>\n",
       "      <td>1985-01-27</td>\n",
       "      <td>32</td>\n",
       "      <td>2018-07-01 09:18:00</td>\n",
       "      <td>33</td>\n",
       "    </tr>\n",
       "    <tr>\n",
       "      <th>14</th>\n",
       "      <td>1992-01-20</td>\n",
       "      <td>25</td>\n",
       "      <td>2018-06-02 19:41:00</td>\n",
       "      <td>26</td>\n",
       "    </tr>\n",
       "    <tr>\n",
       "      <th>...</th>\n",
       "      <td>...</td>\n",
       "      <td>...</td>\n",
       "      <td>...</td>\n",
       "      <td>...</td>\n",
       "    </tr>\n",
       "    <tr>\n",
       "      <th>40998</th>\n",
       "      <td>1996-07-17</td>\n",
       "      <td>21</td>\n",
       "      <td>2018-11-07 17:29:00</td>\n",
       "      <td>22</td>\n",
       "    </tr>\n",
       "    <tr>\n",
       "      <th>41013</th>\n",
       "      <td>1925-08-15</td>\n",
       "      <td>21</td>\n",
       "      <td>2018-11-07 18:59:00</td>\n",
       "      <td>93</td>\n",
       "    </tr>\n",
       "    <tr>\n",
       "      <th>41014</th>\n",
       "      <td>1971-08-04</td>\n",
       "      <td>46</td>\n",
       "      <td>2018-11-07 22:36:00</td>\n",
       "      <td>47</td>\n",
       "    </tr>\n",
       "    <tr>\n",
       "      <th>41019</th>\n",
       "      <td>1995-10-02</td>\n",
       "      <td>22</td>\n",
       "      <td>2018-11-07 23:33:00</td>\n",
       "      <td>23</td>\n",
       "    </tr>\n",
       "    <tr>\n",
       "      <th>41021</th>\n",
       "      <td>1983-10-29</td>\n",
       "      <td>34</td>\n",
       "      <td>2018-11-07 23:28:00</td>\n",
       "      <td>35</td>\n",
       "    </tr>\n",
       "  </tbody>\n",
       "</table>\n",
       "<p>6420 rows × 4 columns</p>\n",
       "</div>"
      ],
      "text/plain": [
       "          fb_dob  de_age      de_date_joined  check_age\n",
       "1     1995-01-20      22 2018-02-01 17:17:00         23\n",
       "5     1988-10-17      27 2018-01-01 12:51:00         29\n",
       "6     1988-04-29      29 2018-06-01 01:05:00         30\n",
       "12    1985-01-27      32 2018-07-01 09:18:00         33\n",
       "14    1992-01-20      25 2018-06-02 19:41:00         26\n",
       "...          ...     ...                 ...        ...\n",
       "40998 1996-07-17      21 2018-11-07 17:29:00         22\n",
       "41013 1925-08-15      21 2018-11-07 18:59:00         93\n",
       "41014 1971-08-04      46 2018-11-07 22:36:00         47\n",
       "41019 1995-10-02      22 2018-11-07 23:33:00         23\n",
       "41021 1983-10-29      34 2018-11-07 23:28:00         35\n",
       "\n",
       "[6420 rows x 4 columns]"
      ]
     },
     "execution_count": 427,
     "metadata": {},
     "output_type": "execute_result"
    }
   ],
   "source": [
    "check[(check['check_age']-check['de_age'])>0]"
   ]
  },
  {
   "cell_type": "code",
   "execution_count": 428,
   "id": "cdbc584d",
   "metadata": {
    "ExecuteTime": {
     "end_time": "2022-09-05T10:09:40.979180Z",
     "start_time": "2022-09-05T10:09:40.975287Z"
    }
   },
   "outputs": [],
   "source": [
    "df['check_age']=check['check_age']"
   ]
  },
  {
   "cell_type": "markdown",
   "id": "50200d6c",
   "metadata": {},
   "source": [
    "After those exploration, it seems that date of birth from FB is quite absurd. Without further exploration, I conclude that FB is not a good representative data to the user (to be crosschecked with user manual input of data) since a lot of data were wrongly inputted. Let's **drop** them."
   ]
  },
  {
   "cell_type": "code",
   "execution_count": 429,
   "id": "36887e60",
   "metadata": {
    "ExecuteTime": {
     "end_time": "2022-09-05T10:09:41.520358Z",
     "start_time": "2022-09-05T10:09:41.515492Z"
    }
   },
   "outputs": [
    {
     "data": {
      "text/plain": [
       "array(['Married', nan, 'In a relationship', 'In an open relationship',\n",
       "       'Single', 'Engaged', \"It's complicated\",\n",
       "       'In a domestic partnership', 'Widowed', 'Separated', 'Divorced',\n",
       "       'Engaged (Pending)', 'Married (Pending)', 'In a civil union',\n",
       "       'In an open relationship (Pending)', 'In a relationship (Pending)',\n",
       "       'In a domestic partnership (Pending)',\n",
       "       \"It's complicated (Pending)\"], dtype=object)"
      ]
     },
     "execution_count": 429,
     "metadata": {},
     "output_type": "execute_result"
    }
   ],
   "source": [
    "df['fb_relation'].unique()"
   ]
  },
  {
   "cell_type": "markdown",
   "id": "d07a26ce",
   "metadata": {
    "ExecuteTime": {
     "end_time": "2022-09-05T08:56:29.784644Z",
     "start_time": "2022-09-05T08:56:29.779774Z"
    }
   },
   "source": [
    "de_marital_status: 1=single, 2=married, 3=divorced, 4=widow/widower."
   ]
  },
  {
   "cell_type": "code",
   "execution_count": 430,
   "id": "f7a455a8",
   "metadata": {
    "ExecuteTime": {
     "end_time": "2022-09-05T10:09:41.918452Z",
     "start_time": "2022-09-05T10:09:41.913582Z"
    }
   },
   "outputs": [],
   "source": [
    "def change_status(x):\n",
    "    if x=='Married' or x=='In a civil union':\n",
    "        return 2\n",
    "    elif x=='Widowed':\n",
    "        return 4\n",
    "    elif x=='Divorced':\n",
    "        return 3\n",
    "    elif x in ['In a relationship', 'In an open relationship',\n",
    "       'Single', 'Engaged', \"It's complicated\",\n",
    "       'In a domestic partnership', 'Separated',\n",
    "       'Engaged (Pending)', 'Married (Pending)',\n",
    "       'In an open relationship (Pending)', 'In a relationship (Pending)',\n",
    "       'In a domestic partnership (Pending)',\n",
    "       \"It's complicated (Pending)\"]:\n",
    "        return 1\n",
    "    else:\n",
    "        return None"
   ]
  },
  {
   "cell_type": "code",
   "execution_count": 431,
   "id": "7cbae430",
   "metadata": {
    "ExecuteTime": {
     "end_time": "2022-09-05T10:09:42.743836Z",
     "start_time": "2022-09-05T10:09:42.724368Z"
    }
   },
   "outputs": [],
   "source": [
    "df['fb_marital_status']=df['fb_relation'].apply(lambda x: change_status(x))"
   ]
  },
  {
   "cell_type": "code",
   "execution_count": 432,
   "id": "085eaead",
   "metadata": {
    "ExecuteTime": {
     "end_time": "2022-09-05T10:09:43.672603Z",
     "start_time": "2022-09-05T10:09:43.667736Z"
    }
   },
   "outputs": [
    {
     "data": {
      "text/plain": [
       "array([ 2., nan,  1.,  4.,  3.])"
      ]
     },
     "execution_count": 432,
     "metadata": {},
     "output_type": "execute_result"
    }
   ],
   "source": [
    "df['fb_marital_status'].unique()"
   ]
  },
  {
   "cell_type": "code",
   "execution_count": 434,
   "id": "126e0a85",
   "metadata": {
    "ExecuteTime": {
     "end_time": "2022-09-05T10:10:10.133787Z",
     "start_time": "2022-09-05T10:10:10.124053Z"
    }
   },
   "outputs": [],
   "source": [
    "df=df.reset_index(drop=True)"
   ]
  },
  {
   "cell_type": "markdown",
   "id": "9dcc8c4e",
   "metadata": {},
   "source": [
    "**Change 2** Data Inconsistency"
   ]
  },
  {
   "cell_type": "code",
   "execution_count": 435,
   "id": "fb1026f7",
   "metadata": {
    "ExecuteTime": {
     "end_time": "2022-09-05T10:10:12.304457Z",
     "start_time": "2022-09-05T10:10:12.300573Z"
    }
   },
   "outputs": [],
   "source": [
    "df['Inconsistency']=None"
   ]
  },
  {
   "cell_type": "code",
   "execution_count": 436,
   "id": "2dd9f822",
   "metadata": {
    "ExecuteTime": {
     "end_time": "2022-09-05T10:10:12.894220Z",
     "start_time": "2022-09-05T10:10:12.888382Z"
    }
   },
   "outputs": [
    {
     "data": {
      "text/plain": [
       "array([None], dtype=object)"
      ]
     },
     "execution_count": 436,
     "metadata": {},
     "output_type": "execute_result"
    }
   ],
   "source": [
    "df['Inconsistency'].unique()"
   ]
  },
  {
   "cell_type": "code",
   "execution_count": 437,
   "id": "32a84ebd",
   "metadata": {
    "ExecuteTime": {
     "end_time": "2022-09-05T10:10:13.758944Z",
     "start_time": "2022-09-05T10:10:13.745314Z"
    }
   },
   "outputs": [
    {
     "name": "stdout",
     "output_type": "stream",
     "text": [
      "<class 'pandas.core.frame.DataFrame'>\n",
      "RangeIndex: 41020 entries, 0 to 41019\n",
      "Data columns (total 20 columns):\n",
      " #   Column                  Non-Null Count  Dtype         \n",
      "---  ------                  --------------  -----         \n",
      " 0   index                   41020 non-null  int64         \n",
      " 1   flag_bad                41020 non-null  int64         \n",
      " 2   de_age                  41020 non-null  int64         \n",
      " 3   de_gender               41020 non-null  int64         \n",
      " 4   de_date_joined          41020 non-null  datetime64[ns]\n",
      " 5   de_monthly_salary       41020 non-null  int64         \n",
      " 6   de_employment_type      41020 non-null  int64         \n",
      " 7   de_employment_duration  41020 non-null  int64         \n",
      " 8   de_education            41020 non-null  int64         \n",
      " 9   de_marital_status       41020 non-null  int64         \n",
      " 10  de_children             41020 non-null  int64         \n",
      " 11  fb_gender               39508 non-null  object        \n",
      " 12  fb_dob                  31368 non-null  datetime64[ns]\n",
      " 13  fb_last_updated_date    39551 non-null  object        \n",
      " 14  fb_relation             14560 non-null  object        \n",
      " 15  ph_brand                41020 non-null  object        \n",
      " 16  Amount_Apps             41020 non-null  int64         \n",
      " 17  check_age               41020 non-null  int64         \n",
      " 18  fb_marital_status       14560 non-null  float64       \n",
      " 19  Inconsistency           0 non-null      object        \n",
      "dtypes: datetime64[ns](2), float64(1), int64(12), object(5)\n",
      "memory usage: 6.3+ MB\n"
     ]
    }
   ],
   "source": [
    "df.info()"
   ]
  },
  {
   "cell_type": "code",
   "execution_count": 440,
   "id": "c66d73a6",
   "metadata": {
    "ExecuteTime": {
     "end_time": "2022-09-05T10:11:17.871037Z",
     "start_time": "2022-09-05T10:10:54.248166Z"
    }
   },
   "outputs": [],
   "source": [
    "for i in range(len(df)):\n",
    "    if df['de_gender'].iloc[i]==1 and df['fb_gender'].iloc[i]=='female':\n",
    "        df.loc[i,'Inconsistency']=1\n",
    "    elif df['de_gender'].iloc[i]==2 and df['fb_gender'].iloc[i]=='male':\n",
    "        df.loc[i,'Inconsistency']=1\n",
    "    else:\n",
    "        df.loc[i,'Inconsistency']=0"
   ]
  },
  {
   "cell_type": "code",
   "execution_count": 442,
   "id": "589ca3e1",
   "metadata": {
    "ExecuteTime": {
     "end_time": "2022-09-05T10:11:43.298018Z",
     "start_time": "2022-09-05T10:11:32.948747Z"
    }
   },
   "outputs": [],
   "source": [
    "for i in range(len(df)): \n",
    "    if df['check_age'].iloc[i]-df['de_age'].iloc[i]!=0:\n",
    "        df.loc[i,'Inconsistency']=1\n",
    "    else:\n",
    "        continue"
   ]
  },
  {
   "cell_type": "code",
   "execution_count": 444,
   "id": "87500052",
   "metadata": {
    "ExecuteTime": {
     "end_time": "2022-09-05T10:12:13.178778Z",
     "start_time": "2022-09-05T10:12:01.169549Z"
    }
   },
   "outputs": [],
   "source": [
    "for i in range(len(df)):\n",
    "    if df['fb_marital_status'].iloc[i]!=df['de_marital_status'].iloc[i]:\n",
    "        df.loc[i,'Inconsistency']=1\n",
    "    else:\n",
    "        continue"
   ]
  },
  {
   "cell_type": "code",
   "execution_count": 446,
   "id": "9878ecdb",
   "metadata": {
    "ExecuteTime": {
     "end_time": "2022-09-05T10:12:25.642485Z",
     "start_time": "2022-09-05T10:12:25.631786Z"
    }
   },
   "outputs": [],
   "source": [
    "# Deleting multiple columns\n",
    "df.drop(columns=['fb_dob','fb_last_updated_date','fb_relation'],inplace=True)"
   ]
  },
  {
   "cell_type": "code",
   "execution_count": 447,
   "id": "63b4763c",
   "metadata": {
    "ExecuteTime": {
     "end_time": "2022-09-05T10:12:30.353616Z",
     "start_time": "2022-09-05T10:12:30.342904Z"
    },
    "scrolled": false
   },
   "outputs": [
    {
     "name": "stdout",
     "output_type": "stream",
     "text": [
      "<class 'pandas.core.frame.DataFrame'>\n",
      "RangeIndex: 41020 entries, 0 to 41019\n",
      "Data columns (total 17 columns):\n",
      " #   Column                  Non-Null Count  Dtype         \n",
      "---  ------                  --------------  -----         \n",
      " 0   index                   41020 non-null  int64         \n",
      " 1   flag_bad                41020 non-null  int64         \n",
      " 2   de_age                  41020 non-null  int64         \n",
      " 3   de_gender               41020 non-null  int64         \n",
      " 4   de_date_joined          41020 non-null  datetime64[ns]\n",
      " 5   de_monthly_salary       41020 non-null  int64         \n",
      " 6   de_employment_type      41020 non-null  int64         \n",
      " 7   de_employment_duration  41020 non-null  int64         \n",
      " 8   de_education            41020 non-null  int64         \n",
      " 9   de_marital_status       41020 non-null  int64         \n",
      " 10  de_children             41020 non-null  int64         \n",
      " 11  fb_gender               39508 non-null  object        \n",
      " 12  ph_brand                41020 non-null  object        \n",
      " 13  Amount_Apps             41020 non-null  int64         \n",
      " 14  check_age               41020 non-null  int64         \n",
      " 15  fb_marital_status       14560 non-null  float64       \n",
      " 16  Inconsistency           41020 non-null  object        \n",
      "dtypes: datetime64[ns](1), float64(1), int64(12), object(3)\n",
      "memory usage: 5.3+ MB\n"
     ]
    }
   ],
   "source": [
    "df.info()"
   ]
  },
  {
   "cell_type": "markdown",
   "id": "4d9d8357",
   "metadata": {},
   "source": [
    "## Summary"
   ]
  },
  {
   "cell_type": "markdown",
   "id": "410ad5e0",
   "metadata": {
    "ExecuteTime": {
     "end_time": "2022-08-14T08:38:26.092130Z",
     "start_time": "2022-08-14T08:38:26.086290Z"
    }
   },
   "source": [
    "1. From the initial data cleaning process, we dropped 10 columns (from 22 columns, to 12) because they were not informative enough to help us in the prediction model. \n",
    "2. Other than that, 2 data were deleted (from 41022 to 41020) due to inconsistency with the data description. \n",
    "3. An initial feature engineering was performed to simplify information of ph_other_device_info into ph_brand."
   ]
  },
  {
   "cell_type": "code",
   "execution_count": 448,
   "id": "e4a1bcca",
   "metadata": {
    "ExecuteTime": {
     "end_time": "2022-09-05T10:12:38.141082Z",
     "start_time": "2022-09-05T10:12:38.129403Z"
    }
   },
   "outputs": [
    {
     "name": "stdout",
     "output_type": "stream",
     "text": [
      "<class 'pandas.core.frame.DataFrame'>\n",
      "RangeIndex: 41020 entries, 0 to 41019\n",
      "Data columns (total 17 columns):\n",
      " #   Column                  Non-Null Count  Dtype         \n",
      "---  ------                  --------------  -----         \n",
      " 0   index                   41020 non-null  int64         \n",
      " 1   flag_bad                41020 non-null  int64         \n",
      " 2   de_age                  41020 non-null  int64         \n",
      " 3   de_gender               41020 non-null  int64         \n",
      " 4   de_date_joined          41020 non-null  datetime64[ns]\n",
      " 5   de_monthly_salary       41020 non-null  int64         \n",
      " 6   de_employment_type      41020 non-null  int64         \n",
      " 7   de_employment_duration  41020 non-null  int64         \n",
      " 8   de_education            41020 non-null  int64         \n",
      " 9   de_marital_status       41020 non-null  int64         \n",
      " 10  de_children             41020 non-null  int64         \n",
      " 11  fb_gender               39508 non-null  object        \n",
      " 12  ph_brand                41020 non-null  object        \n",
      " 13  Amount_Apps             41020 non-null  int64         \n",
      " 14  check_age               41020 non-null  int64         \n",
      " 15  fb_marital_status       14560 non-null  float64       \n",
      " 16  Inconsistency           41020 non-null  object        \n",
      "dtypes: datetime64[ns](1), float64(1), int64(12), object(3)\n",
      "memory usage: 5.3+ MB\n"
     ]
    }
   ],
   "source": [
    "df.info()"
   ]
  },
  {
   "cell_type": "markdown",
   "id": "0c50866f",
   "metadata": {},
   "source": [
    "# Exploratory Data Analysis (EDA)"
   ]
  },
  {
   "cell_type": "markdown",
   "id": "7b6a0269",
   "metadata": {},
   "source": [
    "EDA was performed to help us understand the characteristics of label and features and their correlation to each other. In this step, we can gain insights that will help the business decision-making or strategies, also how to do further feature engineering and/or data preprocessing."
   ]
  },
  {
   "cell_type": "markdown",
   "id": "5ad693dd",
   "metadata": {},
   "source": [
    "## How many users are bad?"
   ]
  },
  {
   "cell_type": "code",
   "execution_count": 70,
   "id": "3d0c51a9",
   "metadata": {
    "ExecuteTime": {
     "end_time": "2022-08-31T18:30:39.694146Z",
     "start_time": "2022-08-31T18:30:39.630874Z"
    }
   },
   "outputs": [
    {
     "data": {
      "text/plain": [
       "<AxesSubplot:xlabel='flag_bad', ylabel='count'>"
      ]
     },
     "execution_count": 70,
     "metadata": {},
     "output_type": "execute_result"
    },
    {
     "data": {
      "image/png": "[encoded data removed]",
      "text/plain": [
       "<Figure size 432x288 with 1 Axes>"
      ]
     },
     "metadata": {
      "needs_background": "light"
     },
     "output_type": "display_data"
    }
   ],
   "source": [
    "# Barplot of flag_bad\n",
    "sns.countplot(data=df,x='flag_bad')"
   ]
  },
  {
   "cell_type": "code",
   "execution_count": 71,
   "id": "b586a65c",
   "metadata": {
    "ExecuteTime": {
     "end_time": "2022-08-31T18:30:39.796341Z",
     "start_time": "2022-08-31T18:30:39.791474Z"
    }
   },
   "outputs": [
    {
     "data": {
      "text/plain": [
       "0    35701\n",
       "1     5319\n",
       "Name: flag_bad, dtype: int64"
      ]
     },
     "execution_count": 71,
     "metadata": {},
     "output_type": "execute_result"
    }
   ],
   "source": [
    "# Checking the amount of unique values of flag_bad\n",
    "df['flag_bad'].value_counts()"
   ]
  },
  {
   "cell_type": "code",
   "execution_count": 72,
   "id": "887421ce",
   "metadata": {
    "ExecuteTime": {
     "end_time": "2022-08-31T18:30:40.019247Z",
     "start_time": "2022-08-31T18:30:40.013406Z"
    }
   },
   "outputs": [
    {
     "name": "stdout",
     "output_type": "stream",
     "text": [
      "Total of bad users: 5319\n",
      "Percentage of bad users: 12.967 %\n"
     ]
    }
   ],
   "source": [
    "print('Total of bad users:',(df['flag_bad'].value_counts()[1]))\n",
    "print('Percentage of bad users:',round(df['flag_bad'].value_counts()[1]/df['flag_bad'].value_counts().sum(),5)*100,'%')"
   ]
  },
  {
   "cell_type": "markdown",
   "id": "0b2cc261",
   "metadata": {},
   "source": [
    "Based on the graph above, the dataset consists of around only 13% of bad users. This is clearly an **imbalanced** dataset. "
   ]
  },
  {
   "cell_type": "markdown",
   "id": "449396b1",
   "metadata": {},
   "source": [
    "## How's the range of age of the users?"
   ]
  },
  {
   "cell_type": "code",
   "execution_count": 73,
   "id": "59382b62",
   "metadata": {
    "ExecuteTime": {
     "end_time": "2022-08-31T18:30:40.541986Z",
     "start_time": "2022-08-31T18:30:40.485473Z"
    }
   },
   "outputs": [
    {
     "data": {
      "text/plain": [
       "<AxesSubplot:ylabel='de_age'>"
      ]
     },
     "execution_count": 73,
     "metadata": {},
     "output_type": "execute_result"
    },
    {
     "data": {
      "image/png": "[encoded data removed]",
      "text/plain": [
       "<Figure size 432x288 with 1 Axes>"
      ]
     },
     "metadata": {
      "needs_background": "light"
     },
     "output_type": "display_data"
    }
   ],
   "source": [
    "# Creating boxplot\n",
    "sns.boxplot(y='de_age',data=df)"
   ]
  },
  {
   "cell_type": "code",
   "execution_count": 74,
   "id": "2f2000f5",
   "metadata": {
    "ExecuteTime": {
     "end_time": "2022-08-31T18:30:40.666512Z",
     "start_time": "2022-08-31T18:30:40.658726Z"
    }
   },
   "outputs": [
    {
     "data": {
      "text/plain": [
       "count    41020.000000\n",
       "mean        28.170892\n",
       "std          6.537908\n",
       "min         18.000000\n",
       "25%         23.000000\n",
       "50%         27.000000\n",
       "75%         32.000000\n",
       "max         73.000000\n",
       "Name: de_age, dtype: float64"
      ]
     },
     "execution_count": 74,
     "metadata": {},
     "output_type": "execute_result"
    }
   ],
   "source": [
    "# Distribution of age\n",
    "df['de_age'].describe()"
   ]
  },
  {
   "cell_type": "markdown",
   "id": "2c4d9946",
   "metadata": {},
   "source": [
    "Most of the user have range of age from 23 to 32 years old."
   ]
  },
  {
   "cell_type": "markdown",
   "id": "9eef9131",
   "metadata": {},
   "source": [
    "## Is there any difference of age between good and bad users?"
   ]
  },
  {
   "cell_type": "code",
   "execution_count": 75,
   "id": "309f1b7c",
   "metadata": {
    "ExecuteTime": {
     "end_time": "2022-08-31T18:30:41.283960Z",
     "start_time": "2022-08-31T18:30:41.209987Z"
    }
   },
   "outputs": [
    {
     "data": {
      "text/plain": [
       "<AxesSubplot:xlabel='flag_bad', ylabel='de_age'>"
      ]
     },
     "execution_count": 75,
     "metadata": {},
     "output_type": "execute_result"
    },
    {
     "data": {
      "image/png": "[encoded data removed]",
      "text/plain": [
       "<Figure size 432x288 with 1 Axes>"
      ]
     },
     "metadata": {
      "needs_background": "light"
     },
     "output_type": "display_data"
    }
   ],
   "source": [
    "# Creating boxplot\n",
    "sns.boxplot(y='de_age',x='flag_bad',data=df)"
   ]
  },
  {
   "cell_type": "code",
   "execution_count": 76,
   "id": "8cd6e278",
   "metadata": {
    "ExecuteTime": {
     "end_time": "2022-08-31T18:30:41.392973Z",
     "start_time": "2022-08-31T18:30:41.380320Z"
    }
   },
   "outputs": [
    {
     "data": {
      "text/html": [
       "<div>\n",
       "<style scoped>\n",
       "    .dataframe tbody tr th:only-of-type {\n",
       "        vertical-align: middle;\n",
       "    }\n",
       "\n",
       "    .dataframe tbody tr th {\n",
       "        vertical-align: top;\n",
       "    }\n",
       "\n",
       "    .dataframe thead th {\n",
       "        text-align: right;\n",
       "    }\n",
       "</style>\n",
       "<table border=\"1\" class=\"dataframe\">\n",
       "  <thead>\n",
       "    <tr style=\"text-align: right;\">\n",
       "      <th></th>\n",
       "      <th>count</th>\n",
       "      <th>mean</th>\n",
       "      <th>std</th>\n",
       "      <th>min</th>\n",
       "      <th>25%</th>\n",
       "      <th>50%</th>\n",
       "      <th>75%</th>\n",
       "      <th>max</th>\n",
       "    </tr>\n",
       "    <tr>\n",
       "      <th>flag_bad</th>\n",
       "      <th></th>\n",
       "      <th></th>\n",
       "      <th></th>\n",
       "      <th></th>\n",
       "      <th></th>\n",
       "      <th></th>\n",
       "      <th></th>\n",
       "      <th></th>\n",
       "    </tr>\n",
       "  </thead>\n",
       "  <tbody>\n",
       "    <tr>\n",
       "      <th>0</th>\n",
       "      <td>35701.0</td>\n",
       "      <td>28.208342</td>\n",
       "      <td>6.557939</td>\n",
       "      <td>18.0</td>\n",
       "      <td>23.0</td>\n",
       "      <td>27.0</td>\n",
       "      <td>32.0</td>\n",
       "      <td>73.0</td>\n",
       "    </tr>\n",
       "    <tr>\n",
       "      <th>1</th>\n",
       "      <td>5319.0</td>\n",
       "      <td>27.919534</td>\n",
       "      <td>6.396771</td>\n",
       "      <td>18.0</td>\n",
       "      <td>23.0</td>\n",
       "      <td>27.0</td>\n",
       "      <td>31.0</td>\n",
       "      <td>69.0</td>\n",
       "    </tr>\n",
       "  </tbody>\n",
       "</table>\n",
       "</div>"
      ],
      "text/plain": [
       "            count       mean       std   min   25%   50%   75%   max\n",
       "flag_bad                                                            \n",
       "0         35701.0  28.208342  6.557939  18.0  23.0  27.0  32.0  73.0\n",
       "1          5319.0  27.919534  6.396771  18.0  23.0  27.0  31.0  69.0"
      ]
     },
     "execution_count": 76,
     "metadata": {},
     "output_type": "execute_result"
    }
   ],
   "source": [
    "# Distribution of age stratified by flag_bad\n",
    "df.groupby('flag_bad')['de_age'].describe()"
   ]
  },
  {
   "cell_type": "markdown",
   "id": "f93d3858",
   "metadata": {},
   "source": [
    "Based on the graph and table above, there are no difference in age between bad and good users. Based on this data, it seems that increase in age didn't really contributes to the wiseness of someone."
   ]
  },
  {
   "cell_type": "markdown",
   "id": "8e020b0b",
   "metadata": {},
   "source": [
    "## Does gender affects the ability of someone to return their debt?"
   ]
  },
  {
   "cell_type": "code",
   "execution_count": 77,
   "id": "09be25fa",
   "metadata": {
    "ExecuteTime": {
     "end_time": "2022-08-31T18:30:42.017403Z",
     "start_time": "2022-08-31T18:30:41.945378Z"
    }
   },
   "outputs": [
    {
     "data": {
      "text/plain": [
       "<AxesSubplot:xlabel='de_gender', ylabel='count'>"
      ]
     },
     "execution_count": 77,
     "metadata": {},
     "output_type": "execute_result"
    },
    {
     "data": {
      "image/png": "[encoded data removed]",
      "text/plain": [
       "<Figure size 432x288 with 1 Axes>"
      ]
     },
     "metadata": {
      "needs_background": "light"
     },
     "output_type": "display_data"
    }
   ],
   "source": [
    "# Visualizing the frequency of gender based on flag_bad\n",
    "sns.countplot(data=df,x='de_gender',hue='flag_bad')"
   ]
  },
  {
   "cell_type": "code",
   "execution_count": 78,
   "id": "3cf93267",
   "metadata": {
    "ExecuteTime": {
     "end_time": "2022-08-31T18:30:42.244272Z",
     "start_time": "2022-08-31T18:30:42.133247Z"
    }
   },
   "outputs": [
    {
     "data": {
      "text/plain": [
       "<AxesSubplot:xlabel='de_gender', ylabel='flag_bad'>"
      ]
     },
     "execution_count": 78,
     "metadata": {},
     "output_type": "execute_result"
    },
    {
     "data": {
      "image/png": "[encoded data removed]",
      "text/plain": [
       "<Figure size 720x360 with 2 Axes>"
      ]
     },
     "metadata": {
      "needs_background": "light"
     },
     "output_type": "display_data"
    }
   ],
   "source": [
    "# Heatmap of percentage proportion\n",
    "plt.figure(figsize=(10,5))\n",
    "sns.heatmap(pd.crosstab(df['flag_bad'],df['de_gender'],normalize='columns'), annot=True)"
   ]
  },
  {
   "cell_type": "markdown",
   "id": "eb51b05c",
   "metadata": {},
   "source": [
    "Men have a slightly higher bad users than women, but they are still comparable."
   ]
  },
  {
   "cell_type": "markdown",
   "id": "2e38a15d",
   "metadata": {},
   "source": [
    "## Is there any difference in monthly salary between bad and good users?"
   ]
  },
  {
   "cell_type": "code",
   "execution_count": 79,
   "id": "aea61d7e",
   "metadata": {
    "ExecuteTime": {
     "end_time": "2022-08-31T18:30:42.766038Z",
     "start_time": "2022-08-31T18:30:42.685131Z"
    }
   },
   "outputs": [
    {
     "data": {
      "text/plain": [
       "<AxesSubplot:xlabel='flag_bad', ylabel='de_monthly_salary'>"
      ]
     },
     "execution_count": 79,
     "metadata": {},
     "output_type": "execute_result"
    },
    {
     "data": {
      "image/png": "[encoded data removed]",
      "text/plain": [
       "<Figure size 432x288 with 1 Axes>"
      ]
     },
     "metadata": {
      "needs_background": "light"
     },
     "output_type": "display_data"
    }
   ],
   "source": [
    "# Creating boxplot\n",
    "sns.boxplot(y='de_monthly_salary',x='flag_bad',data=df)"
   ]
  },
  {
   "cell_type": "code",
   "execution_count": 80,
   "id": "703792f7",
   "metadata": {
    "ExecuteTime": {
     "end_time": "2022-08-31T18:30:42.887199Z",
     "start_time": "2022-08-31T18:30:42.874544Z"
    }
   },
   "outputs": [
    {
     "data": {
      "text/html": [
       "<div>\n",
       "<style scoped>\n",
       "    .dataframe tbody tr th:only-of-type {\n",
       "        vertical-align: middle;\n",
       "    }\n",
       "\n",
       "    .dataframe tbody tr th {\n",
       "        vertical-align: top;\n",
       "    }\n",
       "\n",
       "    .dataframe thead th {\n",
       "        text-align: right;\n",
       "    }\n",
       "</style>\n",
       "<table border=\"1\" class=\"dataframe\">\n",
       "  <thead>\n",
       "    <tr style=\"text-align: right;\">\n",
       "      <th></th>\n",
       "      <th>count</th>\n",
       "      <th>mean</th>\n",
       "      <th>std</th>\n",
       "      <th>min</th>\n",
       "      <th>25%</th>\n",
       "      <th>50%</th>\n",
       "      <th>75%</th>\n",
       "      <th>max</th>\n",
       "    </tr>\n",
       "    <tr>\n",
       "      <th>flag_bad</th>\n",
       "      <th></th>\n",
       "      <th></th>\n",
       "      <th></th>\n",
       "      <th></th>\n",
       "      <th></th>\n",
       "      <th></th>\n",
       "      <th></th>\n",
       "      <th></th>\n",
       "    </tr>\n",
       "  </thead>\n",
       "  <tbody>\n",
       "    <tr>\n",
       "      <th>0</th>\n",
       "      <td>35701.0</td>\n",
       "      <td>5.176382e+06</td>\n",
       "      <td>3.751453e+06</td>\n",
       "      <td>3000000.0</td>\n",
       "      <td>3000000.0</td>\n",
       "      <td>4000000.0</td>\n",
       "      <td>5000000.0</td>\n",
       "      <td>41000000.0</td>\n",
       "    </tr>\n",
       "    <tr>\n",
       "      <th>1</th>\n",
       "      <td>5319.0</td>\n",
       "      <td>5.226546e+06</td>\n",
       "      <td>3.750292e+06</td>\n",
       "      <td>3000000.0</td>\n",
       "      <td>3000000.0</td>\n",
       "      <td>4000000.0</td>\n",
       "      <td>6000000.0</td>\n",
       "      <td>41000000.0</td>\n",
       "    </tr>\n",
       "  </tbody>\n",
       "</table>\n",
       "</div>"
      ],
      "text/plain": [
       "            count          mean           std        min        25%  \\\n",
       "flag_bad                                                              \n",
       "0         35701.0  5.176382e+06  3.751453e+06  3000000.0  3000000.0   \n",
       "1          5319.0  5.226546e+06  3.750292e+06  3000000.0  3000000.0   \n",
       "\n",
       "                50%        75%         max  \n",
       "flag_bad                                    \n",
       "0         4000000.0  5000000.0  41000000.0  \n",
       "1         4000000.0  6000000.0  41000000.0  "
      ]
     },
     "execution_count": 80,
     "metadata": {},
     "output_type": "execute_result"
    }
   ],
   "source": [
    "# Distribution of monthly salary based on flag_bad\n",
    "df.groupby('flag_bad')['de_monthly_salary'].describe()"
   ]
  },
  {
   "cell_type": "markdown",
   "id": "d4562d03",
   "metadata": {},
   "source": [
    "Bad users has slightly more monthly salary than good users, but it's still comparable. "
   ]
  },
  {
   "cell_type": "markdown",
   "id": "c0edd388",
   "metadata": {},
   "source": [
    "## Does employment type affects the ability of someone to return their debt?"
   ]
  },
  {
   "cell_type": "code",
   "execution_count": 81,
   "id": "3dc5bbb1",
   "metadata": {
    "ExecuteTime": {
     "end_time": "2022-08-31T18:30:43.560526Z",
     "start_time": "2022-08-31T18:30:43.481190Z"
    }
   },
   "outputs": [
    {
     "data": {
      "text/plain": [
       "<AxesSubplot:xlabel='de_employment_type', ylabel='count'>"
      ]
     },
     "execution_count": 81,
     "metadata": {},
     "output_type": "execute_result"
    },
    {
     "data": {
      "image/png": "[encoded data removed]",
      "text/plain": [
       "<Figure size 432x288 with 1 Axes>"
      ]
     },
     "metadata": {
      "needs_background": "light"
     },
     "output_type": "display_data"
    }
   ],
   "source": [
    "# Visualizing frequencies of employment type based on flag_bad\n",
    "sns.countplot(data=df,x='de_employment_type',hue='flag_bad')"
   ]
  },
  {
   "cell_type": "code",
   "execution_count": 82,
   "id": "b394daab",
   "metadata": {
    "ExecuteTime": {
     "end_time": "2022-08-31T18:30:43.787122Z",
     "start_time": "2022-08-31T18:30:43.672274Z"
    }
   },
   "outputs": [
    {
     "data": {
      "text/plain": [
       "<AxesSubplot:xlabel='de_employment_type', ylabel='flag_bad'>"
      ]
     },
     "execution_count": 82,
     "metadata": {},
     "output_type": "execute_result"
    },
    {
     "data": {
      "image/png": "[encoded data removed]",
      "text/plain": [
       "<Figure size 720x360 with 2 Axes>"
      ]
     },
     "metadata": {
      "needs_background": "light"
     },
     "output_type": "display_data"
    }
   ],
   "source": [
    "# Heatmap of percentage proportion\n",
    "plt.figure(figsize=(10,5))\n",
    "sns.heatmap(pd.crosstab(df['flag_bad'],df['de_employment_type'],normalize='columns'), annot=True)"
   ]
  },
  {
   "cell_type": "markdown",
   "id": "1db969d4",
   "metadata": {},
   "source": [
    "Still comparable. However, full time worker have slightly higher good users proportion than part time and business owner."
   ]
  },
  {
   "cell_type": "markdown",
   "id": "9e0d0a68",
   "metadata": {},
   "source": [
    "## Is there any difference in employment duration between good and bad users?"
   ]
  },
  {
   "cell_type": "code",
   "execution_count": 83,
   "id": "249b359f",
   "metadata": {
    "ExecuteTime": {
     "end_time": "2022-08-31T18:30:44.553135Z",
     "start_time": "2022-08-31T18:30:44.282549Z"
    }
   },
   "outputs": [
    {
     "data": {
      "text/plain": [
       "<seaborn.axisgrid.FacetGrid at 0x16c4abac610>"
      ]
     },
     "execution_count": 83,
     "metadata": {},
     "output_type": "execute_result"
    },
    {
     "data": {
      "image/png": "[encoded data removed]",
      "text/plain": [
       "<Figure size 360x360 with 1 Axes>"
      ]
     },
     "metadata": {
      "needs_background": "light"
     },
     "output_type": "display_data"
    }
   ],
   "source": [
    "# To see the distribution using histogram\n",
    "sns.displot(data=df, x=\"de_employment_duration\", kde=True)"
   ]
  },
  {
   "cell_type": "markdown",
   "id": "97139028",
   "metadata": {},
   "source": [
    "It's weird that there are a lot of data with employment duration of 50."
   ]
  },
  {
   "cell_type": "code",
   "execution_count": 84,
   "id": "892fd456",
   "metadata": {
    "ExecuteTime": {
     "end_time": "2022-08-31T18:30:44.681615Z",
     "start_time": "2022-08-31T18:30:44.676749Z"
    }
   },
   "outputs": [
    {
     "data": {
      "text/plain": [
       "0    35701\n",
       "1     5319\n",
       "Name: flag_bad, dtype: int64"
      ]
     },
     "execution_count": 84,
     "metadata": {},
     "output_type": "execute_result"
    }
   ],
   "source": [
    "df['flag_bad'].value_counts()"
   ]
  },
  {
   "cell_type": "code",
   "execution_count": 85,
   "id": "eea12982",
   "metadata": {
    "ExecuteTime": {
     "end_time": "2022-08-31T18:30:44.909375Z",
     "start_time": "2022-08-31T18:30:44.901589Z"
    }
   },
   "outputs": [
    {
     "data": {
      "text/plain": [
       "0    22385\n",
       "1     2998\n",
       "Name: flag_bad, dtype: int64"
      ]
     },
     "execution_count": 85,
     "metadata": {},
     "output_type": "execute_result"
    }
   ],
   "source": [
    "df[(df['de_age']<df['de_employment_duration'])]['flag_bad'].value_counts()"
   ]
  },
  {
   "cell_type": "markdown",
   "id": "5720544e",
   "metadata": {},
   "source": [
    "However, there are a lot of good users data that have age less than employment duration. Maybe the duration is not in years."
   ]
  },
  {
   "cell_type": "code",
   "execution_count": 86,
   "id": "e46df061",
   "metadata": {
    "ExecuteTime": {
     "end_time": "2022-08-31T18:30:45.382415Z",
     "start_time": "2022-08-31T18:30:45.311362Z"
    }
   },
   "outputs": [
    {
     "data": {
      "text/plain": [
       "<AxesSubplot:xlabel='flag_bad', ylabel='de_employment_duration'>"
      ]
     },
     "execution_count": 86,
     "metadata": {},
     "output_type": "execute_result"
    },
    {
     "data": {
      "image/png": "[encoded data removed]",
      "text/plain": [
       "<Figure size 432x288 with 1 Axes>"
      ]
     },
     "metadata": {
      "needs_background": "light"
     },
     "output_type": "display_data"
    }
   ],
   "source": [
    "# Creating boxplot\n",
    "sns.boxplot(y='de_employment_duration',x='flag_bad',data=df)"
   ]
  },
  {
   "cell_type": "code",
   "execution_count": 87,
   "id": "2faa11b5",
   "metadata": {
    "ExecuteTime": {
     "end_time": "2022-08-31T18:30:45.506028Z",
     "start_time": "2022-08-31T18:30:45.492402Z"
    }
   },
   "outputs": [
    {
     "data": {
      "text/html": [
       "<div>\n",
       "<style scoped>\n",
       "    .dataframe tbody tr th:only-of-type {\n",
       "        vertical-align: middle;\n",
       "    }\n",
       "\n",
       "    .dataframe tbody tr th {\n",
       "        vertical-align: top;\n",
       "    }\n",
       "\n",
       "    .dataframe thead th {\n",
       "        text-align: right;\n",
       "    }\n",
       "</style>\n",
       "<table border=\"1\" class=\"dataframe\">\n",
       "  <thead>\n",
       "    <tr style=\"text-align: right;\">\n",
       "      <th></th>\n",
       "      <th>count</th>\n",
       "      <th>mean</th>\n",
       "      <th>std</th>\n",
       "      <th>min</th>\n",
       "      <th>25%</th>\n",
       "      <th>50%</th>\n",
       "      <th>75%</th>\n",
       "      <th>max</th>\n",
       "    </tr>\n",
       "    <tr>\n",
       "      <th>flag_bad</th>\n",
       "      <th></th>\n",
       "      <th></th>\n",
       "      <th></th>\n",
       "      <th></th>\n",
       "      <th></th>\n",
       "      <th></th>\n",
       "      <th></th>\n",
       "      <th></th>\n",
       "    </tr>\n",
       "  </thead>\n",
       "  <tbody>\n",
       "    <tr>\n",
       "      <th>0</th>\n",
       "      <td>35701.0</td>\n",
       "      <td>33.728327</td>\n",
       "      <td>16.701789</td>\n",
       "      <td>1.0</td>\n",
       "      <td>19.0</td>\n",
       "      <td>36.0</td>\n",
       "      <td>51.0</td>\n",
       "      <td>51.0</td>\n",
       "    </tr>\n",
       "    <tr>\n",
       "      <th>1</th>\n",
       "      <td>5319.0</td>\n",
       "      <td>31.496522</td>\n",
       "      <td>15.651297</td>\n",
       "      <td>1.0</td>\n",
       "      <td>18.0</td>\n",
       "      <td>30.0</td>\n",
       "      <td>51.0</td>\n",
       "      <td>51.0</td>\n",
       "    </tr>\n",
       "  </tbody>\n",
       "</table>\n",
       "</div>"
      ],
      "text/plain": [
       "            count       mean        std  min   25%   50%   75%   max\n",
       "flag_bad                                                            \n",
       "0         35701.0  33.728327  16.701789  1.0  19.0  36.0  51.0  51.0\n",
       "1          5319.0  31.496522  15.651297  1.0  18.0  30.0  51.0  51.0"
      ]
     },
     "execution_count": 87,
     "metadata": {},
     "output_type": "execute_result"
    }
   ],
   "source": [
    "df.groupby('flag_bad')['de_employment_duration'].describe()"
   ]
  },
  {
   "cell_type": "markdown",
   "id": "daac734f",
   "metadata": {},
   "source": [
    "Good users has slightly higher employment duration than bad users, but still comparable."
   ]
  },
  {
   "cell_type": "markdown",
   "id": "29927e46",
   "metadata": {},
   "source": [
    "## Does education affects the ability of someone to return their debt?"
   ]
  },
  {
   "cell_type": "code",
   "execution_count": 88,
   "id": "0474afe8",
   "metadata": {
    "ExecuteTime": {
     "end_time": "2022-08-31T18:30:46.329832Z",
     "start_time": "2022-08-31T18:30:46.183251Z"
    }
   },
   "outputs": [
    {
     "data": {
      "text/plain": [
       "<AxesSubplot:xlabel='de_education', ylabel='count'>"
      ]
     },
     "execution_count": 88,
     "metadata": {},
     "output_type": "execute_result"
    },
    {
     "data": {
      "image/png": "[encoded data removed]",
      "text/plain": [
       "<Figure size 432x288 with 1 Axes>"
      ]
     },
     "metadata": {
      "needs_background": "light"
     },
     "output_type": "display_data"
    }
   ],
   "source": [
    "# Visualizing frequencies of education type based on flag_bad\n",
    "sns.countplot(data=df,x='de_education',hue='flag_bad')"
   ]
  },
  {
   "cell_type": "code",
   "execution_count": 89,
   "id": "fa2fc084",
   "metadata": {
    "ExecuteTime": {
     "end_time": "2022-08-31T18:30:46.753512Z",
     "start_time": "2022-08-31T18:30:46.630873Z"
    }
   },
   "outputs": [
    {
     "data": {
      "text/plain": [
       "<AxesSubplot:xlabel='de_education', ylabel='flag_bad'>"
      ]
     },
     "execution_count": 89,
     "metadata": {},
     "output_type": "execute_result"
    },
    {
     "data": {
      "image/png": "[encoded data removed]",
      "text/plain": [
       "<Figure size 720x360 with 2 Axes>"
      ]
     },
     "metadata": {
      "needs_background": "light"
     },
     "output_type": "display_data"
    }
   ],
   "source": [
    "plt.figure(figsize=(10,5))\n",
    "sns.heatmap(pd.crosstab(df['flag_bad'],df['de_education'],normalize='columns'), annot=True)"
   ]
  },
  {
   "cell_type": "markdown",
   "id": "85c346da",
   "metadata": {},
   "source": [
    "Now, this is interesting. The higher the education, the less the amount of bad users."
   ]
  },
  {
   "cell_type": "markdown",
   "id": "bf6a32ca",
   "metadata": {},
   "source": [
    "## Does marital status affects the ability of someone to return their debt?"
   ]
  },
  {
   "cell_type": "code",
   "execution_count": 90,
   "id": "ba1c75c3",
   "metadata": {
    "ExecuteTime": {
     "end_time": "2022-08-31T18:30:47.783800Z",
     "start_time": "2022-08-31T18:30:47.697179Z"
    }
   },
   "outputs": [
    {
     "data": {
      "text/plain": [
       "<AxesSubplot:xlabel='de_marital_status', ylabel='count'>"
      ]
     },
     "execution_count": 90,
     "metadata": {},
     "output_type": "execute_result"
    },
    {
     "data": {
      "image/png": "[encoded data removed]",
      "text/plain": [
       "<Figure size 432x288 with 1 Axes>"
      ]
     },
     "metadata": {
      "needs_background": "light"
     },
     "output_type": "display_data"
    }
   ],
   "source": [
    "sns.countplot(data=df,x='de_marital_status',hue='flag_bad')"
   ]
  },
  {
   "cell_type": "code",
   "execution_count": 91,
   "id": "2419258c",
   "metadata": {
    "ExecuteTime": {
     "end_time": "2022-08-31T18:30:48.053418Z",
     "start_time": "2022-08-31T18:30:47.933698Z"
    }
   },
   "outputs": [
    {
     "data": {
      "text/plain": [
       "<AxesSubplot:xlabel='de_marital_status', ylabel='flag_bad'>"
      ]
     },
     "execution_count": 91,
     "metadata": {},
     "output_type": "execute_result"
    },
    {
     "data": {
      "image/png": "[encoded data removed]",
      "text/plain": [
       "<Figure size 720x360 with 2 Axes>"
      ]
     },
     "metadata": {
      "needs_background": "light"
     },
     "output_type": "display_data"
    }
   ],
   "source": [
    "plt.figure(figsize=(10,5))\n",
    "sns.heatmap(pd.crosstab(df['flag_bad'],df['de_marital_status'],normalize='columns'), annot=True)"
   ]
  },
  {
   "cell_type": "markdown",
   "id": "32448cbc",
   "metadata": {},
   "source": [
    "Divorced and widow status has higher proportion of bad users, compared to single and married."
   ]
  },
  {
   "cell_type": "markdown",
   "id": "ff824b0f",
   "metadata": {},
   "source": [
    "## Does amount of children affect flag_bad status of users?"
   ]
  },
  {
   "cell_type": "code",
   "execution_count": 92,
   "id": "11548a4e",
   "metadata": {
    "ExecuteTime": {
     "end_time": "2022-08-31T18:30:48.929413Z",
     "start_time": "2022-08-31T18:30:48.850578Z"
    }
   },
   "outputs": [
    {
     "data": {
      "text/plain": [
       "<AxesSubplot:xlabel='flag_bad', ylabel='de_children'>"
      ]
     },
     "execution_count": 92,
     "metadata": {},
     "output_type": "execute_result"
    },
    {
     "data": {
      "image/png": "[encoded data removed]",
      "text/plain": [
       "<Figure size 432x288 with 1 Axes>"
      ]
     },
     "metadata": {
      "needs_background": "light"
     },
     "output_type": "display_data"
    }
   ],
   "source": [
    "sns.boxplot(y='de_children',x='flag_bad',data=df)"
   ]
  },
  {
   "cell_type": "markdown",
   "id": "d0895a23",
   "metadata": {},
   "source": [
    "Nope. However, logically, the amount of children will affect their monthly expenditure, it will indirectly affect their ability to pay for their debt."
   ]
  },
  {
   "cell_type": "markdown",
   "id": "dd37dada",
   "metadata": {},
   "source": [
    "## Does brand of users handphone reflecting their flag_bad status?"
   ]
  },
  {
   "cell_type": "markdown",
   "id": "d7c327c8",
   "metadata": {},
   "source": [
    "As stated in the data cleaning section, the assumption of the brand will indirectly reflects user's spending habit was made."
   ]
  },
  {
   "cell_type": "code",
   "execution_count": 93,
   "id": "cac2f09a",
   "metadata": {
    "ExecuteTime": {
     "end_time": "2022-08-31T18:30:49.976918Z",
     "start_time": "2022-08-31T18:30:49.835726Z"
    }
   },
   "outputs": [
    {
     "data": {
      "text/plain": [
       "<AxesSubplot:xlabel='ph_brand', ylabel='count'>"
      ]
     },
     "execution_count": 93,
     "metadata": {},
     "output_type": "execute_result"
    },
    {
     "data": {
      "image/png": "[encoded data removed]",
      "text/plain": [
       "<Figure size 432x288 with 1 Axes>"
      ]
     },
     "metadata": {
      "needs_background": "light"
     },
     "output_type": "display_data"
    }
   ],
   "source": [
    "sns.countplot(data=df,x='ph_brand',hue='flag_bad')"
   ]
  },
  {
   "cell_type": "code",
   "execution_count": 94,
   "id": "e67d38ec",
   "metadata": {
    "ExecuteTime": {
     "end_time": "2022-08-31T18:30:50.180286Z",
     "start_time": "2022-08-31T18:30:50.044019Z"
    },
    "scrolled": true
   },
   "outputs": [
    {
     "data": {
      "text/plain": [
       "<AxesSubplot:xlabel='ph_brand', ylabel='flag_bad'>"
      ]
     },
     "execution_count": 94,
     "metadata": {},
     "output_type": "execute_result"
    },
    {
     "data": {
      "image/png": "[encoded data removed]",
      "text/plain": [
       "<Figure size 720x360 with 2 Axes>"
      ]
     },
     "metadata": {
      "needs_background": "light"
     },
     "output_type": "display_data"
    }
   ],
   "source": [
    "plt.figure(figsize=(10,5))\n",
    "sns.heatmap(pd.crosstab(df['flag_bad'],df['ph_brand'],normalize='columns'), annot=True)"
   ]
  },
  {
   "cell_type": "markdown",
   "id": "61919a84",
   "metadata": {},
   "source": [
    "Most of apple users are good users. While others are comparable to each others."
   ]
  },
  {
   "cell_type": "markdown",
   "id": "41ef6986",
   "metadata": {},
   "source": [
    "# Evaluation Metrics"
   ]
  },
  {
   "attachments": {
    "Matrix.png": {
     "image/png": "[encoded data removed]"
    }
   },
   "cell_type": "markdown",
   "id": "eea1cd40",
   "metadata": {},
   "source": [
    "![Matrix.png](attachment:Matrix.png)"
   ]
  },
  {
   "cell_type": "markdown",
   "id": "41b41ea9",
   "metadata": {},
   "source": [
    "Since the dataset is imbalanced, accuracy won't give us a valid result. Thus, we need to find an alternative evaluation metrics. For this binary classification, we want to focus on positive class and false negative, because the false negative will resulting in loss of money for creditor, because the debtor will not be able to pay (while predicted good). Thus, we will use **recall** to make sure that most of the bad users will be identified."
   ]
  },
  {
   "cell_type": "code",
   "execution_count": 95,
   "id": "8abd68cd",
   "metadata": {
    "ExecuteTime": {
     "end_time": "2022-08-31T18:30:51.937852Z",
     "start_time": "2022-08-31T18:30:51.846369Z"
    }
   },
   "outputs": [
    {
     "data": {
      "text/plain": [
       "{'explained_variance': make_scorer(explained_variance_score),\n",
       " 'r2': make_scorer(r2_score),\n",
       " 'max_error': make_scorer(max_error, greater_is_better=False),\n",
       " 'neg_median_absolute_error': make_scorer(median_absolute_error, greater_is_better=False),\n",
       " 'neg_mean_absolute_error': make_scorer(mean_absolute_error, greater_is_better=False),\n",
       " 'neg_mean_absolute_percentage_error': make_scorer(mean_absolute_percentage_error, greater_is_better=False),\n",
       " 'neg_mean_squared_error': make_scorer(mean_squared_error, greater_is_better=False),\n",
       " 'neg_mean_squared_log_error': make_scorer(mean_squared_log_error, greater_is_better=False),\n",
       " 'neg_root_mean_squared_error': make_scorer(mean_squared_error, greater_is_better=False, squared=False),\n",
       " 'neg_mean_poisson_deviance': make_scorer(mean_poisson_deviance, greater_is_better=False),\n",
       " 'neg_mean_gamma_deviance': make_scorer(mean_gamma_deviance, greater_is_better=False),\n",
       " 'accuracy': make_scorer(accuracy_score),\n",
       " 'top_k_accuracy': make_scorer(top_k_accuracy_score, needs_threshold=True),\n",
       " 'roc_auc': make_scorer(roc_auc_score, needs_threshold=True),\n",
       " 'roc_auc_ovr': make_scorer(roc_auc_score, needs_proba=True, multi_class=ovr),\n",
       " 'roc_auc_ovo': make_scorer(roc_auc_score, needs_proba=True, multi_class=ovo),\n",
       " 'roc_auc_ovr_weighted': make_scorer(roc_auc_score, needs_proba=True, multi_class=ovr, average=weighted),\n",
       " 'roc_auc_ovo_weighted': make_scorer(roc_auc_score, needs_proba=True, multi_class=ovo, average=weighted),\n",
       " 'balanced_accuracy': make_scorer(balanced_accuracy_score),\n",
       " 'average_precision': make_scorer(average_precision_score, needs_threshold=True),\n",
       " 'neg_log_loss': make_scorer(log_loss, greater_is_better=False, needs_proba=True),\n",
       " 'neg_brier_score': make_scorer(brier_score_loss, greater_is_better=False, needs_proba=True),\n",
       " 'adjusted_rand_score': make_scorer(adjusted_rand_score),\n",
       " 'rand_score': make_scorer(rand_score),\n",
       " 'homogeneity_score': make_scorer(homogeneity_score),\n",
       " 'completeness_score': make_scorer(completeness_score),\n",
       " 'v_measure_score': make_scorer(v_measure_score),\n",
       " 'mutual_info_score': make_scorer(mutual_info_score),\n",
       " 'adjusted_mutual_info_score': make_scorer(adjusted_mutual_info_score),\n",
       " 'normalized_mutual_info_score': make_scorer(normalized_mutual_info_score),\n",
       " 'fowlkes_mallows_score': make_scorer(fowlkes_mallows_score),\n",
       " 'precision': make_scorer(precision_score, average=binary),\n",
       " 'precision_macro': make_scorer(precision_score, pos_label=None, average=macro),\n",
       " 'precision_micro': make_scorer(precision_score, pos_label=None, average=micro),\n",
       " 'precision_samples': make_scorer(precision_score, pos_label=None, average=samples),\n",
       " 'precision_weighted': make_scorer(precision_score, pos_label=None, average=weighted),\n",
       " 'recall': make_scorer(recall_score, average=binary),\n",
       " 'recall_macro': make_scorer(recall_score, pos_label=None, average=macro),\n",
       " 'recall_micro': make_scorer(recall_score, pos_label=None, average=micro),\n",
       " 'recall_samples': make_scorer(recall_score, pos_label=None, average=samples),\n",
       " 'recall_weighted': make_scorer(recall_score, pos_label=None, average=weighted),\n",
       " 'f1': make_scorer(f1_score, average=binary),\n",
       " 'f1_macro': make_scorer(f1_score, pos_label=None, average=macro),\n",
       " 'f1_micro': make_scorer(f1_score, pos_label=None, average=micro),\n",
       " 'f1_samples': make_scorer(f1_score, pos_label=None, average=samples),\n",
       " 'f1_weighted': make_scorer(f1_score, pos_label=None, average=weighted),\n",
       " 'jaccard': make_scorer(jaccard_score, average=binary),\n",
       " 'jaccard_macro': make_scorer(jaccard_score, pos_label=None, average=macro),\n",
       " 'jaccard_micro': make_scorer(jaccard_score, pos_label=None, average=micro),\n",
       " 'jaccard_samples': make_scorer(jaccard_score, pos_label=None, average=samples),\n",
       " 'jaccard_weighted': make_scorer(jaccard_score, pos_label=None, average=weighted)}"
      ]
     },
     "execution_count": 95,
     "metadata": {},
     "output_type": "execute_result"
    }
   ],
   "source": [
    "from sklearn.metrics import SCORERS\n",
    "SCORERS"
   ]
  },
  {
   "cell_type": "code",
   "execution_count": 530,
   "id": "f314701b",
   "metadata": {
    "ExecuteTime": {
     "end_time": "2022-09-05T10:29:31.472259Z",
     "start_time": "2022-09-05T10:29:31.468366Z"
    }
   },
   "outputs": [],
   "source": [
    "from sklearn.metrics import recall_score, balanced_accuracy_score"
   ]
  },
  {
   "attachments": {
    "Recall%20Formula.png": {
     "image/png": "[encoded data removed]"
    }
   },
   "cell_type": "markdown",
   "id": "031fdb32",
   "metadata": {},
   "source": [
    "![Recall%20Formula.png](attachment:Recall%20Formula.png)"
   ]
  },
  {
   "cell_type": "markdown",
   "id": "41e35730",
   "metadata": {},
   "source": [
    "# Splitting Data"
   ]
  },
  {
   "cell_type": "code",
   "execution_count": 449,
   "id": "bc85cb0f",
   "metadata": {
    "ExecuteTime": {
     "end_time": "2022-09-05T10:12:45.627274Z",
     "start_time": "2022-09-05T10:12:45.623381Z"
    }
   },
   "outputs": [],
   "source": [
    "from sklearn.model_selection import train_test_split"
   ]
  },
  {
   "cell_type": "code",
   "execution_count": 450,
   "id": "883a071e",
   "metadata": {
    "ExecuteTime": {
     "end_time": "2022-09-05T10:12:49.217346Z",
     "start_time": "2022-09-05T10:12:49.205668Z"
    }
   },
   "outputs": [
    {
     "name": "stdout",
     "output_type": "stream",
     "text": [
      "<class 'pandas.core.frame.DataFrame'>\n",
      "RangeIndex: 41020 entries, 0 to 41019\n",
      "Data columns (total 17 columns):\n",
      " #   Column                  Non-Null Count  Dtype         \n",
      "---  ------                  --------------  -----         \n",
      " 0   index                   41020 non-null  int64         \n",
      " 1   flag_bad                41020 non-null  int64         \n",
      " 2   de_age                  41020 non-null  int64         \n",
      " 3   de_gender               41020 non-null  int64         \n",
      " 4   de_date_joined          41020 non-null  datetime64[ns]\n",
      " 5   de_monthly_salary       41020 non-null  int64         \n",
      " 6   de_employment_type      41020 non-null  int64         \n",
      " 7   de_employment_duration  41020 non-null  int64         \n",
      " 8   de_education            41020 non-null  int64         \n",
      " 9   de_marital_status       41020 non-null  int64         \n",
      " 10  de_children             41020 non-null  int64         \n",
      " 11  fb_gender               39508 non-null  object        \n",
      " 12  ph_brand                41020 non-null  object        \n",
      " 13  Amount_Apps             41020 non-null  int64         \n",
      " 14  check_age               41020 non-null  int64         \n",
      " 15  fb_marital_status       14560 non-null  float64       \n",
      " 16  Inconsistency           41020 non-null  object        \n",
      "dtypes: datetime64[ns](1), float64(1), int64(12), object(3)\n",
      "memory usage: 5.3+ MB\n"
     ]
    }
   ],
   "source": [
    "df.info()"
   ]
  },
  {
   "cell_type": "code",
   "execution_count": 497,
   "id": "5c17f956",
   "metadata": {
    "ExecuteTime": {
     "end_time": "2022-09-05T10:22:27.693515Z",
     "start_time": "2022-09-05T10:22:27.677941Z"
    }
   },
   "outputs": [],
   "source": [
    "x=df.drop(columns=['flag_bad','index','de_date_joined','fb_gender','check_age','fb_marital_status','Amount_Apps'])\n",
    "y=df['flag_bad']"
   ]
  },
  {
   "cell_type": "code",
   "execution_count": 498,
   "id": "a6292b56",
   "metadata": {
    "ExecuteTime": {
     "end_time": "2022-09-05T10:22:28.509369Z",
     "start_time": "2022-09-05T10:22:28.486010Z"
    }
   },
   "outputs": [],
   "source": [
    "x_train, x_test, y_train, y_test=train_test_split(x,y,stratify=y,test_size=0.2,random_state=2020)"
   ]
  },
  {
   "cell_type": "markdown",
   "id": "c617a8da",
   "metadata": {},
   "source": [
    "# Preprocessing"
   ]
  },
  {
   "cell_type": "code",
   "execution_count": 499,
   "id": "44ef5a39",
   "metadata": {
    "ExecuteTime": {
     "end_time": "2022-09-05T10:22:29.038423Z",
     "start_time": "2022-09-05T10:22:29.035502Z"
    }
   },
   "outputs": [],
   "source": [
    "from sklearn.compose import ColumnTransformer\n",
    "\n",
    "import category_encoders as ce\n",
    "from sklearn.preprocessing import OneHotEncoder\n",
    "from sklearn.preprocessing import RobustScaler"
   ]
  },
  {
   "cell_type": "markdown",
   "id": "8e0ce08c",
   "metadata": {},
   "source": [
    "Most of the categorical data had already been transformed into numerical values."
   ]
  },
  {
   "cell_type": "code",
   "execution_count": 500,
   "id": "fd879f52",
   "metadata": {
    "ExecuteTime": {
     "end_time": "2022-09-05T10:22:29.524006Z",
     "start_time": "2022-09-05T10:22:29.496753Z"
    }
   },
   "outputs": [
    {
     "data": {
      "text/html": [
       "<div>\n",
       "<style scoped>\n",
       "    .dataframe tbody tr th:only-of-type {\n",
       "        vertical-align: middle;\n",
       "    }\n",
       "\n",
       "    .dataframe tbody tr th {\n",
       "        vertical-align: top;\n",
       "    }\n",
       "\n",
       "    .dataframe thead th {\n",
       "        text-align: right;\n",
       "    }\n",
       "</style>\n",
       "<table border=\"1\" class=\"dataframe\">\n",
       "  <thead>\n",
       "    <tr style=\"text-align: right;\">\n",
       "      <th></th>\n",
       "      <th>de_age</th>\n",
       "      <th>de_gender</th>\n",
       "      <th>de_monthly_salary</th>\n",
       "      <th>de_employment_type</th>\n",
       "      <th>de_employment_duration</th>\n",
       "      <th>de_education</th>\n",
       "      <th>de_marital_status</th>\n",
       "      <th>de_children</th>\n",
       "    </tr>\n",
       "  </thead>\n",
       "  <tbody>\n",
       "    <tr>\n",
       "      <th>count</th>\n",
       "      <td>41020.000000</td>\n",
       "      <td>41020.000000</td>\n",
       "      <td>4.102000e+04</td>\n",
       "      <td>41020.000000</td>\n",
       "      <td>41020.000000</td>\n",
       "      <td>41020.000000</td>\n",
       "      <td>41020.000000</td>\n",
       "      <td>41020.000000</td>\n",
       "    </tr>\n",
       "    <tr>\n",
       "      <th>mean</th>\n",
       "      <td>28.170892</td>\n",
       "      <td>1.388469</td>\n",
       "      <td>5.182886e+06</td>\n",
       "      <td>1.397050</td>\n",
       "      <td>33.438932</td>\n",
       "      <td>2.636275</td>\n",
       "      <td>1.537860</td>\n",
       "      <td>0.706972</td>\n",
       "    </tr>\n",
       "    <tr>\n",
       "      <th>std</th>\n",
       "      <td>6.537908</td>\n",
       "      <td>0.487408</td>\n",
       "      <td>3.751294e+06</td>\n",
       "      <td>0.689242</td>\n",
       "      <td>16.586103</td>\n",
       "      <td>0.950867</td>\n",
       "      <td>0.569083</td>\n",
       "      <td>0.929036</td>\n",
       "    </tr>\n",
       "    <tr>\n",
       "      <th>min</th>\n",
       "      <td>18.000000</td>\n",
       "      <td>1.000000</td>\n",
       "      <td>3.000000e+06</td>\n",
       "      <td>1.000000</td>\n",
       "      <td>1.000000</td>\n",
       "      <td>1.000000</td>\n",
       "      <td>1.000000</td>\n",
       "      <td>0.000000</td>\n",
       "    </tr>\n",
       "    <tr>\n",
       "      <th>25%</th>\n",
       "      <td>23.000000</td>\n",
       "      <td>1.000000</td>\n",
       "      <td>3.000000e+06</td>\n",
       "      <td>1.000000</td>\n",
       "      <td>18.000000</td>\n",
       "      <td>2.000000</td>\n",
       "      <td>1.000000</td>\n",
       "      <td>0.000000</td>\n",
       "    </tr>\n",
       "    <tr>\n",
       "      <th>50%</th>\n",
       "      <td>27.000000</td>\n",
       "      <td>1.000000</td>\n",
       "      <td>4.000000e+06</td>\n",
       "      <td>1.000000</td>\n",
       "      <td>36.000000</td>\n",
       "      <td>2.000000</td>\n",
       "      <td>2.000000</td>\n",
       "      <td>0.000000</td>\n",
       "    </tr>\n",
       "    <tr>\n",
       "      <th>75%</th>\n",
       "      <td>32.000000</td>\n",
       "      <td>2.000000</td>\n",
       "      <td>5.000000e+06</td>\n",
       "      <td>2.000000</td>\n",
       "      <td>51.000000</td>\n",
       "      <td>3.000000</td>\n",
       "      <td>2.000000</td>\n",
       "      <td>1.000000</td>\n",
       "    </tr>\n",
       "    <tr>\n",
       "      <th>max</th>\n",
       "      <td>73.000000</td>\n",
       "      <td>2.000000</td>\n",
       "      <td>4.100000e+07</td>\n",
       "      <td>3.000000</td>\n",
       "      <td>51.000000</td>\n",
       "      <td>5.000000</td>\n",
       "      <td>4.000000</td>\n",
       "      <td>4.000000</td>\n",
       "    </tr>\n",
       "  </tbody>\n",
       "</table>\n",
       "</div>"
      ],
      "text/plain": [
       "             de_age     de_gender  de_monthly_salary  de_employment_type  \\\n",
       "count  41020.000000  41020.000000       4.102000e+04        41020.000000   \n",
       "mean      28.170892      1.388469       5.182886e+06            1.397050   \n",
       "std        6.537908      0.487408       3.751294e+06            0.689242   \n",
       "min       18.000000      1.000000       3.000000e+06            1.000000   \n",
       "25%       23.000000      1.000000       3.000000e+06            1.000000   \n",
       "50%       27.000000      1.000000       4.000000e+06            1.000000   \n",
       "75%       32.000000      2.000000       5.000000e+06            2.000000   \n",
       "max       73.000000      2.000000       4.100000e+07            3.000000   \n",
       "\n",
       "       de_employment_duration  de_education  de_marital_status   de_children  \n",
       "count            41020.000000  41020.000000       41020.000000  41020.000000  \n",
       "mean                33.438932      2.636275           1.537860      0.706972  \n",
       "std                 16.586103      0.950867           0.569083      0.929036  \n",
       "min                  1.000000      1.000000           1.000000      0.000000  \n",
       "25%                 18.000000      2.000000           1.000000      0.000000  \n",
       "50%                 36.000000      2.000000           2.000000      0.000000  \n",
       "75%                 51.000000      3.000000           2.000000      1.000000  \n",
       "max                 51.000000      5.000000           4.000000      4.000000  "
      ]
     },
     "execution_count": 500,
     "metadata": {},
     "output_type": "execute_result"
    }
   ],
   "source": [
    "x.describe()"
   ]
  },
  {
   "cell_type": "markdown",
   "id": "747e7a94",
   "metadata": {},
   "source": [
    "For numerical value, **robust scaler** was used because there are a lot of outliers in the features: de_age, de_monthly_salary, de_employment_duration."
   ]
  },
  {
   "cell_type": "code",
   "execution_count": 501,
   "id": "fd212e4d",
   "metadata": {
    "ExecuteTime": {
     "end_time": "2022-09-05T10:22:30.062747Z",
     "start_time": "2022-09-05T10:22:30.047173Z"
    }
   },
   "outputs": [
    {
     "data": {
      "text/html": [
       "<div>\n",
       "<style scoped>\n",
       "    .dataframe tbody tr th:only-of-type {\n",
       "        vertical-align: middle;\n",
       "    }\n",
       "\n",
       "    .dataframe tbody tr th {\n",
       "        vertical-align: top;\n",
       "    }\n",
       "\n",
       "    .dataframe thead th {\n",
       "        text-align: right;\n",
       "    }\n",
       "</style>\n",
       "<table border=\"1\" class=\"dataframe\">\n",
       "  <thead>\n",
       "    <tr style=\"text-align: right;\">\n",
       "      <th></th>\n",
       "      <th>ph_brand</th>\n",
       "      <th>Inconsistency</th>\n",
       "    </tr>\n",
       "  </thead>\n",
       "  <tbody>\n",
       "    <tr>\n",
       "      <th>count</th>\n",
       "      <td>41020</td>\n",
       "      <td>41020</td>\n",
       "    </tr>\n",
       "    <tr>\n",
       "      <th>unique</th>\n",
       "      <td>9</td>\n",
       "      <td>2</td>\n",
       "    </tr>\n",
       "    <tr>\n",
       "      <th>top</th>\n",
       "      <td>xiaomi</td>\n",
       "      <td>1</td>\n",
       "    </tr>\n",
       "    <tr>\n",
       "      <th>freq</th>\n",
       "      <td>13764</td>\n",
       "      <td>33040</td>\n",
       "    </tr>\n",
       "  </tbody>\n",
       "</table>\n",
       "</div>"
      ],
      "text/plain": [
       "       ph_brand  Inconsistency\n",
       "count     41020          41020\n",
       "unique        9              2\n",
       "top      xiaomi              1\n",
       "freq      13764          33040"
      ]
     },
     "execution_count": 501,
     "metadata": {},
     "output_type": "execute_result"
    }
   ],
   "source": [
    "x.describe(include='object')"
   ]
  },
  {
   "cell_type": "markdown",
   "id": "e5a7a93e",
   "metadata": {},
   "source": [
    "Because we only have a few columns, let's just **one hot encode** this column (ph_brand)."
   ]
  },
  {
   "cell_type": "code",
   "execution_count": 502,
   "id": "835efe59",
   "metadata": {
    "ExecuteTime": {
     "end_time": "2022-09-05T10:22:30.595249Z",
     "start_time": "2022-09-05T10:22:30.591356Z"
    }
   },
   "outputs": [],
   "source": [
    "transformer = ColumnTransformer([\n",
    "    ('one hot',OneHotEncoder(drop='first'),['ph_brand','Inconsistency']),\n",
    "    ('robust', RobustScaler(),['de_age','de_monthly_salary','de_employment_duration'])\n",
    "], remainder = 'passthrough')"
   ]
  },
  {
   "cell_type": "markdown",
   "id": "f515cef5",
   "metadata": {},
   "source": [
    "# Handling Imbalance Data"
   ]
  },
  {
   "cell_type": "markdown",
   "id": "07a2a719",
   "metadata": {},
   "source": [
    "Data imbalance will surely affect the model result. Because we focused on bad users, and the amount of bad users are lower than good users, undersampling method will be used [[2]](https://machinelearningmastery.com/undersampling-algorithms-for-imbalanced-classification/)."
   ]
  },
  {
   "cell_type": "code",
   "execution_count": 503,
   "id": "812f6732",
   "metadata": {
    "ExecuteTime": {
     "end_time": "2022-09-05T10:22:31.400258Z",
     "start_time": "2022-09-05T10:22:31.397337Z"
    }
   },
   "outputs": [],
   "source": [
    "from imblearn.under_sampling import NearMiss"
   ]
  },
  {
   "cell_type": "code",
   "execution_count": 504,
   "id": "6233031d",
   "metadata": {
    "ExecuteTime": {
     "end_time": "2022-09-05T10:22:31.578378Z",
     "start_time": "2022-09-05T10:22:31.575458Z"
    }
   },
   "outputs": [],
   "source": [
    "from imblearn.over_sampling import SMOTE"
   ]
  },
  {
   "cell_type": "code",
   "execution_count": 505,
   "id": "e150764c",
   "metadata": {
    "ExecuteTime": {
     "end_time": "2022-09-05T10:22:31.716592Z",
     "start_time": "2022-09-05T10:22:31.713671Z"
    }
   },
   "outputs": [],
   "source": [
    "nearmiss = NearMiss()"
   ]
  },
  {
   "cell_type": "code",
   "execution_count": 506,
   "id": "1a5e21da",
   "metadata": {
    "ExecuteTime": {
     "end_time": "2022-09-05T10:22:31.854804Z",
     "start_time": "2022-09-05T10:22:31.851942Z"
    }
   },
   "outputs": [],
   "source": [
    "smote=SMOTE()"
   ]
  },
  {
   "cell_type": "markdown",
   "id": "adae1132",
   "metadata": {},
   "source": [
    "# Crossvalidation"
   ]
  },
  {
   "cell_type": "markdown",
   "id": "e84ff7f9",
   "metadata": {},
   "source": [
    "This procedure will help us in selecting the best classifier to be our predictive model."
   ]
  },
  {
   "cell_type": "markdown",
   "id": "2cc11cc4",
   "metadata": {},
   "source": [
    "## Models"
   ]
  },
  {
   "cell_type": "markdown",
   "id": "2f86d78e",
   "metadata": {},
   "source": [
    "For this binary classification, logistic regression will represents the basic method of model-based classification, K-Nearest Neighbor will represents the instance-based classification, while Random Forest and XGBoost will represents tree-based classification (ensemble model)."
   ]
  },
  {
   "cell_type": "code",
   "execution_count": 507,
   "id": "8a7d1a61",
   "metadata": {
    "ExecuteTime": {
     "end_time": "2022-09-05T10:22:32.566312Z",
     "start_time": "2022-09-05T10:22:32.563393Z"
    }
   },
   "outputs": [],
   "source": [
    "from sklearn.neighbors import KNeighborsClassifier\n",
    "from sklearn.linear_model import LogisticRegression\n",
    "from sklearn.ensemble import RandomForestClassifier\n",
    "from xgboost.sklearn import XGBClassifier"
   ]
  },
  {
   "cell_type": "code",
   "execution_count": 508,
   "id": "f9aa91db",
   "metadata": {
    "ExecuteTime": {
     "end_time": "2022-09-05T10:22:32.895299Z",
     "start_time": "2022-09-05T10:22:32.891409Z"
    }
   },
   "outputs": [],
   "source": [
    "model_logreg = LogisticRegression(random_state=10)\n",
    "model_knn= KNeighborsClassifier()\n",
    "model_xgbc= XGBClassifier(random_state=10)\n",
    "model_forest= RandomForestClassifier(random_state=10)"
   ]
  },
  {
   "cell_type": "markdown",
   "id": "3d55878a",
   "metadata": {},
   "source": [
    "## Pipeline"
   ]
  },
  {
   "cell_type": "markdown",
   "id": "a5318a20",
   "metadata": {},
   "source": [
    "Pipeline to prevent data leakage from scaler."
   ]
  },
  {
   "cell_type": "code",
   "execution_count": 509,
   "id": "ee9c5529",
   "metadata": {
    "ExecuteTime": {
     "end_time": "2022-09-05T10:22:33.421609Z",
     "start_time": "2022-09-05T10:22:33.417710Z"
    }
   },
   "outputs": [],
   "source": [
    "from sklearn.model_selection import GridSearchCV, StratifiedKFold\n",
    "from sklearn.metrics import classification_report\n",
    "from sklearn.model_selection import cross_val_score\n",
    "from imblearn.pipeline import Pipeline"
   ]
  },
  {
   "cell_type": "code",
   "execution_count": 510,
   "id": "e064d5d5",
   "metadata": {
    "ExecuteTime": {
     "end_time": "2022-09-05T10:22:33.605565Z",
     "start_time": "2022-09-05T10:22:33.601672Z"
    }
   },
   "outputs": [],
   "source": [
    "estimator=Pipeline([\n",
    "    ('preprocess',transformer),\n",
    "    ('resampling',nearmiss),\n",
    "    ('model',model_forest)\n",
    "])"
   ]
  },
  {
   "cell_type": "code",
   "execution_count": 511,
   "id": "1c9723b8",
   "metadata": {
    "ExecuteTime": {
     "end_time": "2022-09-05T10:22:33.884914Z",
     "start_time": "2022-09-05T10:22:33.881021Z"
    }
   },
   "outputs": [],
   "source": [
    "estimator_withoutresampling=Pipeline([\n",
    "    ('preprocess',transformer),\n",
    "    ('model',model_forest)\n",
    "])"
   ]
  },
  {
   "cell_type": "code",
   "execution_count": 512,
   "id": "46156c91",
   "metadata": {
    "ExecuteTime": {
     "end_time": "2022-09-05T10:22:34.089794Z",
     "start_time": "2022-09-05T10:22:34.086873Z"
    }
   },
   "outputs": [],
   "source": [
    "hyperparam_space={\n",
    "    'model':[model_logreg,model_xgbc,model_knn,model_forest]\n",
    "}"
   ]
  },
  {
   "cell_type": "markdown",
   "id": "9872bf12",
   "metadata": {},
   "source": [
    "## Withouth Undersampling Method"
   ]
  },
  {
   "cell_type": "markdown",
   "id": "811508fe",
   "metadata": {},
   "source": [
    "### Crossval"
   ]
  },
  {
   "cell_type": "code",
   "execution_count": 513,
   "id": "75fb8695",
   "metadata": {
    "ExecuteTime": {
     "end_time": "2022-09-05T10:22:35.262661Z",
     "start_time": "2022-09-05T10:22:35.258767Z"
    }
   },
   "outputs": [],
   "source": [
    "skfold=StratifiedKFold(n_splits=5)\n",
    "grid=GridSearchCV(\n",
    "    estimator_withoutresampling,\n",
    "    param_grid=hyperparam_space,\n",
    "    cv=skfold,\n",
    "    scoring='recall',\n",
    "    n_jobs=-1\n",
    ")"
   ]
  },
  {
   "cell_type": "code",
   "execution_count": 514,
   "id": "632151ae",
   "metadata": {
    "ExecuteTime": {
     "end_time": "2022-09-05T10:22:51.512172Z",
     "start_time": "2022-09-05T10:22:36.054958Z"
    }
   },
   "outputs": [
    {
     "data": {
      "text/plain": [
       "GridSearchCV(cv=StratifiedKFold(n_splits=5, random_state=None, shuffle=False),\n",
       "             estimator=Pipeline(steps=[('preprocess',\n",
       "                                        ColumnTransformer(remainder='passthrough',\n",
       "                                                          transformers=[('one '\n",
       "                                                                         'hot',\n",
       "                                                                         OneHotEncoder(drop='first'),\n",
       "                                                                         ['ph_brand',\n",
       "                                                                          'Inconsistency']),\n",
       "                                                                        ('robust',\n",
       "                                                                         RobustScaler(),\n",
       "                                                                         ['de_age',\n",
       "                                                                          'de_monthly_salary',\n",
       "                                                                          'de_employment_duration'])])),\n",
       "                                       ('model',\n",
       "                                        RandomForestCl...\n",
       "                                                 min_child_weight=None,\n",
       "                                                 missing=nan,\n",
       "                                                 monotone_constraints=None,\n",
       "                                                 n_estimators=100, n_jobs=None,\n",
       "                                                 num_parallel_tree=None,\n",
       "                                                 predictor=None,\n",
       "                                                 random_state=10,\n",
       "                                                 reg_alpha=None,\n",
       "                                                 reg_lambda=None,\n",
       "                                                 scale_pos_weight=None,\n",
       "                                                 subsample=None,\n",
       "                                                 tree_method=None,\n",
       "                                                 validate_parameters=None,\n",
       "                                                 verbosity=None),\n",
       "                                   KNeighborsClassifier(),\n",
       "                                   RandomForestClassifier(random_state=10)]},\n",
       "             scoring='recall')"
      ]
     },
     "execution_count": 514,
     "metadata": {},
     "output_type": "execute_result"
    }
   ],
   "source": [
    "grid.fit(x_train,y_train)"
   ]
  },
  {
   "cell_type": "code",
   "execution_count": 515,
   "id": "73ce2487",
   "metadata": {
    "ExecuteTime": {
     "end_time": "2022-09-05T10:22:53.353913Z",
     "start_time": "2022-09-05T10:22:53.333473Z"
    }
   },
   "outputs": [
    {
     "data": {
      "text/html": [
       "<div>\n",
       "<style scoped>\n",
       "    .dataframe tbody tr th:only-of-type {\n",
       "        vertical-align: middle;\n",
       "    }\n",
       "\n",
       "    .dataframe tbody tr th {\n",
       "        vertical-align: top;\n",
       "    }\n",
       "\n",
       "    .dataframe thead th {\n",
       "        text-align: right;\n",
       "    }\n",
       "</style>\n",
       "<table border=\"1\" class=\"dataframe\">\n",
       "  <thead>\n",
       "    <tr style=\"text-align: right;\">\n",
       "      <th></th>\n",
       "      <th>params</th>\n",
       "      <th>mean_test_score</th>\n",
       "      <th>std_test_score</th>\n",
       "      <th>rank_test_score</th>\n",
       "    </tr>\n",
       "  </thead>\n",
       "  <tbody>\n",
       "    <tr>\n",
       "      <th>0</th>\n",
       "      <td>{'model': LogisticRegression(random_state=10)}</td>\n",
       "      <td>0.000000</td>\n",
       "      <td>0.000000</td>\n",
       "      <td>4</td>\n",
       "    </tr>\n",
       "    <tr>\n",
       "      <th>1</th>\n",
       "      <td>{'model': XGBClassifier(base_score=None, boost...</td>\n",
       "      <td>0.015746</td>\n",
       "      <td>0.005591</td>\n",
       "      <td>3</td>\n",
       "    </tr>\n",
       "    <tr>\n",
       "      <th>2</th>\n",
       "      <td>{'model': KNeighborsClassifier()}</td>\n",
       "      <td>0.037603</td>\n",
       "      <td>0.003239</td>\n",
       "      <td>1</td>\n",
       "    </tr>\n",
       "    <tr>\n",
       "      <th>3</th>\n",
       "      <td>{'model': RandomForestClassifier(random_state=...</td>\n",
       "      <td>0.034313</td>\n",
       "      <td>0.002279</td>\n",
       "      <td>2</td>\n",
       "    </tr>\n",
       "  </tbody>\n",
       "</table>\n",
       "</div>"
      ],
      "text/plain": [
       "                                              params  mean_test_score  \\\n",
       "0     {'model': LogisticRegression(random_state=10)}         0.000000   \n",
       "1  {'model': XGBClassifier(base_score=None, boost...         0.015746   \n",
       "2                  {'model': KNeighborsClassifier()}         0.037603   \n",
       "3  {'model': RandomForestClassifier(random_state=...         0.034313   \n",
       "\n",
       "   std_test_score  rank_test_score  \n",
       "0        0.000000                4  \n",
       "1        0.005591                3  \n",
       "2        0.003239                1  \n",
       "3        0.002279                2  "
      ]
     },
     "execution_count": 515,
     "metadata": {},
     "output_type": "execute_result"
    }
   ],
   "source": [
    "pd.DataFrame(grid.cv_results_)[['params','mean_test_score','std_test_score','rank_test_score']]"
   ]
  },
  {
   "cell_type": "markdown",
   "id": "ad193cd0",
   "metadata": {},
   "source": [
    "Poor training performance."
   ]
  },
  {
   "cell_type": "markdown",
   "id": "3dd4b0f2",
   "metadata": {},
   "source": [
    "## With Undersampling Method"
   ]
  },
  {
   "cell_type": "markdown",
   "id": "1587b091",
   "metadata": {},
   "source": [
    "### Crossval"
   ]
  },
  {
   "cell_type": "code",
   "execution_count": 516,
   "id": "81d7f3f6",
   "metadata": {
    "ExecuteTime": {
     "end_time": "2022-09-05T10:22:56.522825Z",
     "start_time": "2022-09-05T10:22:56.517959Z"
    }
   },
   "outputs": [],
   "source": [
    "skfold=StratifiedKFold(n_splits=5) # 5-fold cross validation for more robust generalization\n",
    "grid=GridSearchCV(\n",
    "    estimator,\n",
    "    param_grid=hyperparam_space,\n",
    "    cv=skfold,\n",
    "    scoring='recall',\n",
    "    n_jobs=-1,\n",
    "    verbose=2\n",
    ")"
   ]
  },
  {
   "cell_type": "code",
   "execution_count": 517,
   "id": "4f478f50",
   "metadata": {
    "ExecuteTime": {
     "end_time": "2022-09-05T10:24:14.025553Z",
     "start_time": "2022-09-05T10:22:57.081622Z"
    }
   },
   "outputs": [
    {
     "name": "stdout",
     "output_type": "stream",
     "text": [
      "Fitting 5 folds for each of 4 candidates, totalling 20 fits\n"
     ]
    },
    {
     "data": {
      "text/plain": [
       "GridSearchCV(cv=StratifiedKFold(n_splits=5, random_state=None, shuffle=False),\n",
       "             estimator=Pipeline(steps=[('preprocess',\n",
       "                                        ColumnTransformer(remainder='passthrough',\n",
       "                                                          transformers=[('one '\n",
       "                                                                         'hot',\n",
       "                                                                         OneHotEncoder(drop='first'),\n",
       "                                                                         ['ph_brand',\n",
       "                                                                          'Inconsistency']),\n",
       "                                                                        ('robust',\n",
       "                                                                         RobustScaler(),\n",
       "                                                                         ['de_age',\n",
       "                                                                          'de_monthly_salary',\n",
       "                                                                          'de_employment_duration'])])),\n",
       "                                       ('resampling', NearMiss(...\n",
       "                                                 min_child_weight=None,\n",
       "                                                 missing=nan,\n",
       "                                                 monotone_constraints=None,\n",
       "                                                 n_estimators=100, n_jobs=None,\n",
       "                                                 num_parallel_tree=None,\n",
       "                                                 predictor=None,\n",
       "                                                 random_state=10,\n",
       "                                                 reg_alpha=None,\n",
       "                                                 reg_lambda=None,\n",
       "                                                 scale_pos_weight=None,\n",
       "                                                 subsample=None,\n",
       "                                                 tree_method=None,\n",
       "                                                 validate_parameters=None,\n",
       "                                                 verbosity=None),\n",
       "                                   KNeighborsClassifier(),\n",
       "                                   RandomForestClassifier(random_state=10)]},\n",
       "             scoring='recall', verbose=2)"
      ]
     },
     "execution_count": 517,
     "metadata": {},
     "output_type": "execute_result"
    }
   ],
   "source": [
    "grid.fit(x_train,y_train)"
   ]
  },
  {
   "cell_type": "code",
   "execution_count": 518,
   "id": "b0d43db3",
   "metadata": {
    "ExecuteTime": {
     "end_time": "2022-09-05T10:24:18.383438Z",
     "start_time": "2022-09-05T10:24:18.357157Z"
    },
    "scrolled": false
   },
   "outputs": [
    {
     "data": {
      "text/html": [
       "<div>\n",
       "<style scoped>\n",
       "    .dataframe tbody tr th:only-of-type {\n",
       "        vertical-align: middle;\n",
       "    }\n",
       "\n",
       "    .dataframe tbody tr th {\n",
       "        vertical-align: top;\n",
       "    }\n",
       "\n",
       "    .dataframe thead th {\n",
       "        text-align: right;\n",
       "    }\n",
       "</style>\n",
       "<table border=\"1\" class=\"dataframe\">\n",
       "  <thead>\n",
       "    <tr style=\"text-align: right;\">\n",
       "      <th></th>\n",
       "      <th>params</th>\n",
       "      <th>mean_test_score</th>\n",
       "      <th>std_test_score</th>\n",
       "      <th>rank_test_score</th>\n",
       "    </tr>\n",
       "  </thead>\n",
       "  <tbody>\n",
       "    <tr>\n",
       "      <th>0</th>\n",
       "      <td>{'model': LogisticRegression(random_state=10)}</td>\n",
       "      <td>0.751351</td>\n",
       "      <td>0.014819</td>\n",
       "      <td>3</td>\n",
       "    </tr>\n",
       "    <tr>\n",
       "      <th>1</th>\n",
       "      <td>{'model': XGBClassifier(base_score=None, boost...</td>\n",
       "      <td>0.802820</td>\n",
       "      <td>0.007221</td>\n",
       "      <td>2</td>\n",
       "    </tr>\n",
       "    <tr>\n",
       "      <th>2</th>\n",
       "      <td>{'model': KNeighborsClassifier()}</td>\n",
       "      <td>0.737250</td>\n",
       "      <td>0.015741</td>\n",
       "      <td>4</td>\n",
       "    </tr>\n",
       "    <tr>\n",
       "      <th>3</th>\n",
       "      <td>{'model': RandomForestClassifier(random_state=...</td>\n",
       "      <td>0.821387</td>\n",
       "      <td>0.009401</td>\n",
       "      <td>1</td>\n",
       "    </tr>\n",
       "  </tbody>\n",
       "</table>\n",
       "</div>"
      ],
      "text/plain": [
       "                                              params  mean_test_score  \\\n",
       "0     {'model': LogisticRegression(random_state=10)}         0.751351   \n",
       "1  {'model': XGBClassifier(base_score=None, boost...         0.802820   \n",
       "2                  {'model': KNeighborsClassifier()}         0.737250   \n",
       "3  {'model': RandomForestClassifier(random_state=...         0.821387   \n",
       "\n",
       "   std_test_score  rank_test_score  \n",
       "0        0.014819                3  \n",
       "1        0.007221                2  \n",
       "2        0.015741                4  \n",
       "3        0.009401                1  "
      ]
     },
     "execution_count": 518,
     "metadata": {},
     "output_type": "execute_result"
    }
   ],
   "source": [
    "pd.DataFrame(grid.cv_results_)[['params','mean_test_score','std_test_score','rank_test_score']]"
   ]
  },
  {
   "cell_type": "markdown",
   "id": "cb8ab093",
   "metadata": {},
   "source": [
    "Using NearMiss Undersampling method, the model was improved by a lot."
   ]
  },
  {
   "cell_type": "markdown",
   "id": "f3250aad",
   "metadata": {},
   "source": [
    "### Base Model"
   ]
  },
  {
   "cell_type": "markdown",
   "id": "bcd956be",
   "metadata": {},
   "source": [
    "We select random forest as the best classifier with the best value of recall score."
   ]
  },
  {
   "cell_type": "code",
   "execution_count": 519,
   "id": "82bdec6b",
   "metadata": {
    "ExecuteTime": {
     "end_time": "2022-09-05T10:24:29.141521Z",
     "start_time": "2022-09-05T10:24:27.361266Z"
    }
   },
   "outputs": [
    {
     "data": {
      "text/plain": [
       "Pipeline(steps=[('preprocess',\n",
       "                 ColumnTransformer(remainder='passthrough',\n",
       "                                   transformers=[('one hot',\n",
       "                                                  OneHotEncoder(drop='first'),\n",
       "                                                  ['ph_brand',\n",
       "                                                   'Inconsistency']),\n",
       "                                                 ('robust', RobustScaler(),\n",
       "                                                  ['de_age',\n",
       "                                                   'de_monthly_salary',\n",
       "                                                   'de_employment_duration'])])),\n",
       "                ('resampling', NearMiss()),\n",
       "                ('model', RandomForestClassifier(random_state=10))])"
      ]
     },
     "execution_count": 519,
     "metadata": {},
     "output_type": "execute_result"
    }
   ],
   "source": [
    "best_model=grid.best_estimator_\n",
    "best_model.fit(x_train,y_train)"
   ]
  },
  {
   "cell_type": "markdown",
   "id": "37b57d03",
   "metadata": {},
   "source": [
    "Let's see its performance in test data."
   ]
  },
  {
   "cell_type": "code",
   "execution_count": 520,
   "id": "c81aea52",
   "metadata": {
    "ExecuteTime": {
     "end_time": "2022-09-05T10:24:32.041764Z",
     "start_time": "2022-09-05T10:24:31.817646Z"
    }
   },
   "outputs": [],
   "source": [
    "y_pred=best_model.predict(x_test)\n",
    "y_proba=best_model.predict_proba(x_test)"
   ]
  },
  {
   "cell_type": "code",
   "execution_count": 526,
   "id": "9be98ebb",
   "metadata": {
    "ExecuteTime": {
     "end_time": "2022-09-05T10:25:03.343050Z",
     "start_time": "2022-09-05T10:25:03.336238Z"
    }
   },
   "outputs": [
    {
     "data": {
      "text/plain": [
       "array([[0.725, 0.275],\n",
       "       [0.41 , 0.59 ],\n",
       "       [0.   , 1.   ],\n",
       "       ...,\n",
       "       [0.62 , 0.38 ],\n",
       "       [0.01 , 0.99 ],\n",
       "       [0.225, 0.775]])"
      ]
     },
     "execution_count": 526,
     "metadata": {},
     "output_type": "execute_result"
    }
   ],
   "source": [
    "y_proba"
   ]
  },
  {
   "cell_type": "code",
   "execution_count": 521,
   "id": "4ff6564f",
   "metadata": {
    "ExecuteTime": {
     "end_time": "2022-09-05T10:24:32.223801Z",
     "start_time": "2022-09-05T10:24:32.210170Z"
    }
   },
   "outputs": [
    {
     "data": {
      "text/plain": [
       "0.7988721804511278"
      ]
     },
     "execution_count": 521,
     "metadata": {},
     "output_type": "execute_result"
    }
   ],
   "source": [
    "recall_score(y_test,y_pred)"
   ]
  },
  {
   "cell_type": "code",
   "execution_count": 522,
   "id": "cb73c3f7",
   "metadata": {
    "ExecuteTime": {
     "end_time": "2022-09-05T10:24:33.166195Z",
     "start_time": "2022-09-05T10:24:33.153541Z"
    }
   },
   "outputs": [
    {
     "name": "stdout",
     "output_type": "stream",
     "text": [
      "              precision    recall  f1-score   support\n",
      "\n",
      "           0       0.86      0.19      0.31      7140\n",
      "           1       0.13      0.80      0.22      1064\n",
      "\n",
      "    accuracy                           0.27      8204\n",
      "   macro avg       0.50      0.49      0.26      8204\n",
      "weighted avg       0.77      0.27      0.30      8204\n",
      "\n"
     ]
    }
   ],
   "source": [
    "print(classification_report(y_test,y_pred))"
   ]
  },
  {
   "cell_type": "markdown",
   "id": "f8796b6c",
   "metadata": {},
   "source": [
    "# Threshold Optimization"
   ]
  },
  {
   "cell_type": "markdown",
   "id": "4aaf1198",
   "metadata": {},
   "source": [
    "Having around 80% recall won't give us a good model because the precision score is just too low. Let's perform threshold optimization."
   ]
  },
  {
   "cell_type": "code",
   "execution_count": 523,
   "id": "c89ea3bd",
   "metadata": {
    "ExecuteTime": {
     "end_time": "2022-09-05T10:24:36.212726Z",
     "start_time": "2022-09-05T10:24:36.208833Z"
    }
   },
   "outputs": [],
   "source": [
    "from sklearn.metrics import precision_recall_curve, plot_precision_recall_curve"
   ]
  },
  {
   "cell_type": "code",
   "execution_count": 524,
   "id": "70e5fbe4",
   "metadata": {
    "ExecuteTime": {
     "end_time": "2022-09-05T10:24:36.535873Z",
     "start_time": "2022-09-05T10:24:36.531008Z"
    }
   },
   "outputs": [],
   "source": [
    "from matplotlib import pyplot"
   ]
  },
  {
   "cell_type": "code",
   "execution_count": 525,
   "id": "5d4ae576",
   "metadata": {
    "ExecuteTime": {
     "end_time": "2022-09-05T10:24:37.498280Z",
     "start_time": "2022-09-05T10:24:37.165111Z"
    }
   },
   "outputs": [
    {
     "data": {
      "image/png": "[encoded data removed]",
      "text/plain": [
       "<Figure size 432x288 with 1 Axes>"
      ]
     },
     "metadata": {
      "needs_background": "light"
     },
     "output_type": "display_data"
    }
   ],
   "source": [
    "# optimal threshold for precision-recall curve with logistic regression model\n",
    "from numpy import argmax\n",
    "from sklearn.datasets import make_classification\n",
    "from sklearn.linear_model import LogisticRegression\n",
    "from sklearn.model_selection import train_test_split\n",
    "from sklearn.metrics import precision_recall_curve\n",
    "from matplotlib import pyplot\n",
    "\n",
    "# predict probabilities\n",
    "yhat = best_model.predict_proba(x_test)\n",
    "# keep probabilities for the positive outcome only\n",
    "yhat = yhat[:, 1]\n",
    "# calculate roc curves\n",
    "precision, recall, thresholds = precision_recall_curve(y_test, yhat)\n",
    "# plot the roc curve for the model\n",
    "no_skill = len(y_test[y_test==1]) / len(y_test)\n",
    "pyplot.plot([0,1], [no_skill,no_skill], linestyle='--', label='No Skill')\n",
    "pyplot.plot(recall, precision, marker='.', label='Logistic')\n",
    "# axis labels\n",
    "pyplot.xlabel('Recall')\n",
    "pyplot.ylabel('Precision')\n",
    "pyplot.legend()\n",
    "# show the plot\n",
    "pyplot.show()"
   ]
  },
  {
   "cell_type": "code",
   "execution_count": 531,
   "id": "bb0a03cb",
   "metadata": {
    "ExecuteTime": {
     "end_time": "2022-09-05T10:56:02.844879Z",
     "start_time": "2022-09-05T10:29:44.042426Z"
    }
   },
   "outputs": [
    {
     "data": {
      "image/png": "[encoded data removed]",
      "text/plain": [
       "<Figure size 432x288 with 1 Axes>"
      ]
     },
     "metadata": {
      "needs_background": "light"
     },
     "output_type": "display_data"
    }
   ],
   "source": [
    "threshold_ = []\n",
    "accuracy_ = []\n",
    "\n",
    "for p in np.unique(best_model.predict_proba(x_train)[:,1]):\n",
    "  threshold_.append(p)\n",
    "  y_pred = (best_model.predict_proba(x_train)[:,1] >= p).astype(int)\n",
    "  accuracy_.append(balanced_accuracy_score(y_train,y_pred))\n",
    "\n",
    "plt.scatter(threshold_,accuracy_)\n",
    "plt.xlabel(\"Threshold\")\n",
    "plt.ylabel(\"Balanced accuracy\")\n",
    "plt.show()"
   ]
  }
 ],
 "metadata": {
  "kernelspec": {
   "display_name": "Python 3 (ipykernel)",
   "language": "python",
   "name": "python3"
  },
  "language_info": {
   "codemirror_mode": {
    "name": "ipython",
    "version": 3
   },
   "file_extension": ".py",
   "mimetype": "text/x-python",
   "name": "python",
   "nbconvert_exporter": "python",
   "pygments_lexer": "ipython3",
   "version": "3.9.7"
  },
  "toc": {
   "base_numbering": 1,
   "nav_menu": {},
   "number_sections": true,
   "sideBar": true,
   "skip_h1_title": false,
   "title_cell": "Table of Contents",
   "title_sidebar": "Contents",
   "toc_cell": false,
   "toc_position": {
    "height": "calc(100% - 180px)",
    "left": "10px",
    "top": "150px",
    "width": "283.825px"
   },
   "toc_section_display": true,
   "toc_window_display": true
  },
  "varInspector": {
   "cols": {
    "lenName": 16,
    "lenType": 16,
    "lenVar": 40
   },
   "kernels_config": {
    "python": {
     "delete_cmd_postfix": "",
     "delete_cmd_prefix": "del ",
     "library": "var_list.py",
     "varRefreshCmd": "print(var_dic_list())"
    },
    "r": {
     "delete_cmd_postfix": ") ",
     "delete_cmd_prefix": "rm(",
     "library": "var_list.r",
     "varRefreshCmd": "cat(var_dic_list()) "
    }
   },
   "types_to_exclude": [
    "module",
    "function",
    "builtin_function_or_method",
    "instance",
    "_Feature"
   ],
   "window_display": false
  }
 },
 "nbformat": 4,
 "nbformat_minor": 5
}
